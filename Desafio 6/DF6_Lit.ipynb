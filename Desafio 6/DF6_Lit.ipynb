{
  "nbformat": 4,
  "nbformat_minor": 0,
  "metadata": {
    "colab": {
      "name": "DF6_Lit",
      "provenance": [],
      "toc_visible": true,
      "authorship_tag": "ABX9TyOYtpsGi5PZwstN2m16mjsQ",
      "include_colab_link": true
    },
    "kernelspec": {
      "name": "python3",
      "display_name": "Python 3"
    }
  },
  "cells": [
    {
      "cell_type": "markdown",
      "metadata": {
        "id": "view-in-github",
        "colab_type": "text"
      },
      "source": [
        "<a href=\"https://colab.research.google.com/github/LucasDatilioCarderelli/Maratona_BehindTheCode_IBM20/blob/main/Desafio%206/DF6_Lit.ipynb\" target=\"_parent\"><img src=\"https://colab.research.google.com/assets/colab-badge.svg\" alt=\"Open In Colab\"/></a>"
      ]
    },
    {
      "cell_type": "markdown",
      "metadata": {
        "id": "qHIMxOr2n20g"
      },
      "source": [
        "# Desafio 6 - LIT Paul\n",
        "\n",
        "Desafio de classficação"
      ]
    },
    {
      "cell_type": "markdown",
      "metadata": {
        "id": "GEQJxX0RoAGe"
      },
      "source": [
        "## Importações"
      ]
    },
    {
      "cell_type": "code",
      "metadata": {
        "id": "0L3nQT8605Vp"
      },
      "source": [
        "!pip install tpot --upgrade"
      ],
      "execution_count": null,
      "outputs": []
    },
    {
      "cell_type": "code",
      "metadata": {
        "id": "1D_fauv9jzlM",
        "colab": {
          "base_uri": "https://localhost:8080/",
          "height": 71
        },
        "outputId": "37d3bf50-e197-49e9-98ca-125923211eca"
      },
      "source": [
        "import pandas as pd\n",
        "import numpy as np\n",
        "\n",
        "import matplotlib as plt\n",
        "import seaborn as sns\n",
        "sns.set()\n",
        "\n",
        "from sklearn.preprocessing import KBinsDiscretizer, LabelEncoder\n",
        "from sklearn.feature_selection import SelectKBest, f_classif\n",
        "from sklearn.model_selection import train_test_split\n",
        "from sklearn.metrics import classification_report, f1_score\n",
        "\n",
        "from tpot import TPOTClassifier"
      ],
      "execution_count": null,
      "outputs": [
        {
          "output_type": "stream",
          "text": [
            "/usr/local/lib/python3.6/dist-packages/statsmodels/tools/_testing.py:19: FutureWarning: pandas.util.testing is deprecated. Use the functions in the public API at pandas.testing instead.\n",
            "  import pandas.util.testing as tm\n"
          ],
          "name": "stderr"
        }
      ]
    },
    {
      "cell_type": "code",
      "metadata": {
        "id": "CU0IFCpEkq8S",
        "colab": {
          "base_uri": "https://localhost:8080/",
          "height": 34
        },
        "outputId": "744d59ae-5399-46fa-c600-9a31ce8fbac7"
      },
      "source": [
        "df = pd.read_csv(\"https://github.com/maratonadev-br/desafio-6-2020/blob/master/dataset/training_dataset.csv?raw=true\")\n",
        "test = pd.read_csv(\"https://raw.githubusercontent.com/maratonadev-br/desafio-6-2020/master/dataset/to_be_scored.csv\")\n",
        "\n",
        "df.shape, test.shape"
      ],
      "execution_count": null,
      "outputs": [
        {
          "output_type": "execute_result",
          "data": {
            "text/plain": [
              "((15857, 15), (1000, 14))"
            ]
          },
          "metadata": {
            "tags": []
          },
          "execution_count": 3
        }
      ]
    },
    {
      "cell_type": "markdown",
      "metadata": {
        "id": "_lbHS4VioDvk"
      },
      "source": [
        "## Analise"
      ]
    },
    {
      "cell_type": "code",
      "metadata": {
        "id": "7D_A7xMXmCYh",
        "colab": {
          "base_uri": "https://localhost:8080/",
          "height": 179
        },
        "outputId": "8eef2461-083f-4604-c86b-19c03c4b0d3c"
      },
      "source": [
        "df.head(3)"
      ],
      "execution_count": null,
      "outputs": [
        {
          "output_type": "execute_result",
          "data": {
            "text/html": [
              "<div>\n",
              "<style scoped>\n",
              "    .dataframe tbody tr th:only-of-type {\n",
              "        vertical-align: middle;\n",
              "    }\n",
              "\n",
              "    .dataframe tbody tr th {\n",
              "        vertical-align: top;\n",
              "    }\n",
              "\n",
              "    .dataframe thead th {\n",
              "        text-align: right;\n",
              "    }\n",
              "</style>\n",
              "<table border=\"1\" class=\"dataframe\">\n",
              "  <thead>\n",
              "    <tr style=\"text-align: right;\">\n",
              "      <th></th>\n",
              "      <th>id</th>\n",
              "      <th>graduacao</th>\n",
              "      <th>universidade</th>\n",
              "      <th>profissao</th>\n",
              "      <th>organizacao</th>\n",
              "      <th>pretende_fazer_cursos_lit</th>\n",
              "      <th>interesse_mba_lit</th>\n",
              "      <th>importante_ter_certificado</th>\n",
              "      <th>horas_semanais_estudo</th>\n",
              "      <th>como_conheceu_lit</th>\n",
              "      <th>total_modulos</th>\n",
              "      <th>modulos_iniciados</th>\n",
              "      <th>modulos_finalizados</th>\n",
              "      <th>certificados</th>\n",
              "      <th>categoria</th>\n",
              "    </tr>\n",
              "  </thead>\n",
              "  <tbody>\n",
              "    <tr>\n",
              "      <th>0</th>\n",
              "      <td>915132186.0</td>\n",
              "      <td>Especialização</td>\n",
              "      <td>UNIP</td>\n",
              "      <td>Analista Senior</td>\n",
              "      <td>Eletrodomesticos</td>\n",
              "      <td>1.0</td>\n",
              "      <td>1.0</td>\n",
              "      <td>1.0</td>\n",
              "      <td>6.0</td>\n",
              "      <td>Google</td>\n",
              "      <td>28.0</td>\n",
              "      <td>5.0</td>\n",
              "      <td>4.0</td>\n",
              "      <td>0.0</td>\n",
              "      <td>perfil6</td>\n",
              "    </tr>\n",
              "    <tr>\n",
              "      <th>1</th>\n",
              "      <td>183037660.0</td>\n",
              "      <td>MBA</td>\n",
              "      <td>NaN</td>\n",
              "      <td>Supervisor</td>\n",
              "      <td>e-commerce</td>\n",
              "      <td>0.0</td>\n",
              "      <td>0.0</td>\n",
              "      <td>1.0</td>\n",
              "      <td>6.0</td>\n",
              "      <td>NaN</td>\n",
              "      <td>66.0</td>\n",
              "      <td>36.0</td>\n",
              "      <td>34.0</td>\n",
              "      <td>0.0</td>\n",
              "      <td>perfil2</td>\n",
              "    </tr>\n",
              "    <tr>\n",
              "      <th>2</th>\n",
              "      <td>681614019.0</td>\n",
              "      <td>Bacharelado</td>\n",
              "      <td>UNICAMP</td>\n",
              "      <td>Outros</td>\n",
              "      <td>e-commerce</td>\n",
              "      <td>1.0</td>\n",
              "      <td>1.0</td>\n",
              "      <td>1.0</td>\n",
              "      <td>10.0</td>\n",
              "      <td>Saint Paul</td>\n",
              "      <td>27.0</td>\n",
              "      <td>27.0</td>\n",
              "      <td>27.0</td>\n",
              "      <td>0.0</td>\n",
              "      <td>perfil2</td>\n",
              "    </tr>\n",
              "  </tbody>\n",
              "</table>\n",
              "</div>"
            ],
            "text/plain": [
              "            id       graduacao  ... certificados categoria\n",
              "0  915132186.0  Especialização  ...          0.0   perfil6\n",
              "1  183037660.0             MBA  ...          0.0   perfil2\n",
              "2  681614019.0     Bacharelado  ...          0.0   perfil2\n",
              "\n",
              "[3 rows x 15 columns]"
            ]
          },
          "metadata": {
            "tags": []
          },
          "execution_count": 11
        }
      ]
    },
    {
      "cell_type": "code",
      "metadata": {
        "id": "f_a-PmzknCBs",
        "colab": {
          "base_uri": "https://localhost:8080/",
          "height": 179
        },
        "outputId": "a05ae7e7-c0da-4cf7-e714-5c4854b39a55"
      },
      "source": [
        "test.head(3)"
      ],
      "execution_count": null,
      "outputs": [
        {
          "output_type": "execute_result",
          "data": {
            "text/html": [
              "<div>\n",
              "<style scoped>\n",
              "    .dataframe tbody tr th:only-of-type {\n",
              "        vertical-align: middle;\n",
              "    }\n",
              "\n",
              "    .dataframe tbody tr th {\n",
              "        vertical-align: top;\n",
              "    }\n",
              "\n",
              "    .dataframe thead th {\n",
              "        text-align: right;\n",
              "    }\n",
              "</style>\n",
              "<table border=\"1\" class=\"dataframe\">\n",
              "  <thead>\n",
              "    <tr style=\"text-align: right;\">\n",
              "      <th></th>\n",
              "      <th>id</th>\n",
              "      <th>graduacao</th>\n",
              "      <th>universidade</th>\n",
              "      <th>profissao</th>\n",
              "      <th>organizacao</th>\n",
              "      <th>pretende_fazer_cursos_lit</th>\n",
              "      <th>interesse_mba_lit</th>\n",
              "      <th>importante_ter_certificado</th>\n",
              "      <th>horas_semanais_estudo</th>\n",
              "      <th>como_conheceu_lit</th>\n",
              "      <th>total_modulos</th>\n",
              "      <th>modulos_iniciados</th>\n",
              "      <th>modulos_finalizados</th>\n",
              "      <th>certificados</th>\n",
              "    </tr>\n",
              "  </thead>\n",
              "  <tbody>\n",
              "    <tr>\n",
              "      <th>0</th>\n",
              "      <td>648443203</td>\n",
              "      <td>Bacharelado</td>\n",
              "      <td>Unesp</td>\n",
              "      <td>Outros</td>\n",
              "      <td>Borracha</td>\n",
              "      <td>0</td>\n",
              "      <td>0</td>\n",
              "      <td>1</td>\n",
              "      <td>3</td>\n",
              "      <td>Saint Paul</td>\n",
              "      <td>58</td>\n",
              "      <td>3</td>\n",
              "      <td>2</td>\n",
              "      <td>0</td>\n",
              "    </tr>\n",
              "    <tr>\n",
              "      <th>1</th>\n",
              "      <td>423266690</td>\n",
              "      <td>Especialização</td>\n",
              "      <td>UNICAMP</td>\n",
              "      <td>SEM EXPERIÊNCIA</td>\n",
              "      <td>Eletrodomesticos</td>\n",
              "      <td>1</td>\n",
              "      <td>1</td>\n",
              "      <td>1</td>\n",
              "      <td>7</td>\n",
              "      <td>Mídia (revista/jornal/web)</td>\n",
              "      <td>62</td>\n",
              "      <td>19</td>\n",
              "      <td>17</td>\n",
              "      <td>0</td>\n",
              "    </tr>\n",
              "    <tr>\n",
              "      <th>2</th>\n",
              "      <td>315097368</td>\n",
              "      <td>Bacharelado</td>\n",
              "      <td>UNICAMP</td>\n",
              "      <td>Engenheiro</td>\n",
              "      <td>Oleo e Gas</td>\n",
              "      <td>0</td>\n",
              "      <td>0</td>\n",
              "      <td>1</td>\n",
              "      <td>9</td>\n",
              "      <td>Google</td>\n",
              "      <td>36</td>\n",
              "      <td>3</td>\n",
              "      <td>1</td>\n",
              "      <td>0</td>\n",
              "    </tr>\n",
              "  </tbody>\n",
              "</table>\n",
              "</div>"
            ],
            "text/plain": [
              "          id       graduacao  ... modulos_finalizados certificados\n",
              "0  648443203     Bacharelado  ...                   2            0\n",
              "1  423266690  Especialização  ...                  17            0\n",
              "2  315097368     Bacharelado  ...                   1            0\n",
              "\n",
              "[3 rows x 14 columns]"
            ]
          },
          "metadata": {
            "tags": []
          },
          "execution_count": 12
        }
      ]
    },
    {
      "cell_type": "code",
      "metadata": {
        "id": "VkLw6wpJmY7Q",
        "colab": {
          "base_uri": "https://localhost:8080/",
          "height": 136
        },
        "outputId": "9b46cf31-38a7-4d6b-bc59-e3566ad32879"
      },
      "source": [
        "df.categoria.value_counts()"
      ],
      "execution_count": null,
      "outputs": [
        {
          "output_type": "execute_result",
          "data": {
            "text/plain": [
              "perfil6    4539\n",
              "perfil2    4215\n",
              "perfil1    2472\n",
              "perfil5    1917\n",
              "perfil4    1661\n",
              "perfil3    1053\n",
              "Name: categoria, dtype: int64"
            ]
          },
          "metadata": {
            "tags": []
          },
          "execution_count": 13
        }
      ]
    },
    {
      "cell_type": "code",
      "metadata": {
        "id": "IsqF2_vln0-z",
        "colab": {
          "base_uri": "https://localhost:8080/",
          "height": 317
        },
        "outputId": "2af14005-d231-4b57-e3a4-e5f9ac01f135"
      },
      "source": [
        "df.describe()"
      ],
      "execution_count": null,
      "outputs": [
        {
          "output_type": "execute_result",
          "data": {
            "text/html": [
              "<div>\n",
              "<style scoped>\n",
              "    .dataframe tbody tr th:only-of-type {\n",
              "        vertical-align: middle;\n",
              "    }\n",
              "\n",
              "    .dataframe tbody tr th {\n",
              "        vertical-align: top;\n",
              "    }\n",
              "\n",
              "    .dataframe thead th {\n",
              "        text-align: right;\n",
              "    }\n",
              "</style>\n",
              "<table border=\"1\" class=\"dataframe\">\n",
              "  <thead>\n",
              "    <tr style=\"text-align: right;\">\n",
              "      <th></th>\n",
              "      <th>id</th>\n",
              "      <th>pretende_fazer_cursos_lit</th>\n",
              "      <th>interesse_mba_lit</th>\n",
              "      <th>importante_ter_certificado</th>\n",
              "      <th>horas_semanais_estudo</th>\n",
              "      <th>total_modulos</th>\n",
              "      <th>modulos_iniciados</th>\n",
              "      <th>modulos_finalizados</th>\n",
              "      <th>certificados</th>\n",
              "    </tr>\n",
              "  </thead>\n",
              "  <tbody>\n",
              "    <tr>\n",
              "      <th>count</th>\n",
              "      <td>1.394500e+04</td>\n",
              "      <td>13989.000000</td>\n",
              "      <td>14003.000000</td>\n",
              "      <td>13918.0</td>\n",
              "      <td>13959.000000</td>\n",
              "      <td>13987.000000</td>\n",
              "      <td>14044.000000</td>\n",
              "      <td>13924.000000</td>\n",
              "      <td>13979.000000</td>\n",
              "    </tr>\n",
              "    <tr>\n",
              "      <th>mean</th>\n",
              "      <td>5.544775e+08</td>\n",
              "      <td>0.497105</td>\n",
              "      <td>0.495965</td>\n",
              "      <td>1.0</td>\n",
              "      <td>6.016548</td>\n",
              "      <td>78.637735</td>\n",
              "      <td>37.153375</td>\n",
              "      <td>30.661017</td>\n",
              "      <td>0.358323</td>\n",
              "    </tr>\n",
              "    <tr>\n",
              "      <th>std</th>\n",
              "      <td>2.602859e+08</td>\n",
              "      <td>0.500009</td>\n",
              "      <td>0.500002</td>\n",
              "      <td>0.0</td>\n",
              "      <td>2.592178</td>\n",
              "      <td>106.539567</td>\n",
              "      <td>59.344535</td>\n",
              "      <td>51.979119</td>\n",
              "      <td>1.212509</td>\n",
              "    </tr>\n",
              "    <tr>\n",
              "      <th>min</th>\n",
              "      <td>1.000340e+08</td>\n",
              "      <td>0.000000</td>\n",
              "      <td>0.000000</td>\n",
              "      <td>1.0</td>\n",
              "      <td>2.000000</td>\n",
              "      <td>1.000000</td>\n",
              "      <td>1.000000</td>\n",
              "      <td>1.000000</td>\n",
              "      <td>0.000000</td>\n",
              "    </tr>\n",
              "    <tr>\n",
              "      <th>25%</th>\n",
              "      <td>3.283140e+08</td>\n",
              "      <td>0.000000</td>\n",
              "      <td>0.000000</td>\n",
              "      <td>1.0</td>\n",
              "      <td>4.000000</td>\n",
              "      <td>27.000000</td>\n",
              "      <td>7.000000</td>\n",
              "      <td>4.000000</td>\n",
              "      <td>0.000000</td>\n",
              "    </tr>\n",
              "    <tr>\n",
              "      <th>50%</th>\n",
              "      <td>5.576492e+08</td>\n",
              "      <td>0.000000</td>\n",
              "      <td>0.000000</td>\n",
              "      <td>1.0</td>\n",
              "      <td>6.000000</td>\n",
              "      <td>40.000000</td>\n",
              "      <td>18.000000</td>\n",
              "      <td>13.000000</td>\n",
              "      <td>0.000000</td>\n",
              "    </tr>\n",
              "    <tr>\n",
              "      <th>75%</th>\n",
              "      <td>7.805295e+08</td>\n",
              "      <td>1.000000</td>\n",
              "      <td>1.000000</td>\n",
              "      <td>1.0</td>\n",
              "      <td>8.000000</td>\n",
              "      <td>96.000000</td>\n",
              "      <td>43.000000</td>\n",
              "      <td>35.000000</td>\n",
              "      <td>0.000000</td>\n",
              "    </tr>\n",
              "    <tr>\n",
              "      <th>max</th>\n",
              "      <td>9.999894e+08</td>\n",
              "      <td>1.000000</td>\n",
              "      <td>1.000000</td>\n",
              "      <td>1.0</td>\n",
              "      <td>10.000000</td>\n",
              "      <td>2073.000000</td>\n",
              "      <td>1370.000000</td>\n",
              "      <td>1359.000000</td>\n",
              "      <td>32.000000</td>\n",
              "    </tr>\n",
              "  </tbody>\n",
              "</table>\n",
              "</div>"
            ],
            "text/plain": [
              "                 id  ...  certificados\n",
              "count  1.394500e+04  ...  13979.000000\n",
              "mean   5.544775e+08  ...      0.358323\n",
              "std    2.602859e+08  ...      1.212509\n",
              "min    1.000340e+08  ...      0.000000\n",
              "25%    3.283140e+08  ...      0.000000\n",
              "50%    5.576492e+08  ...      0.000000\n",
              "75%    7.805295e+08  ...      0.000000\n",
              "max    9.999894e+08  ...     32.000000\n",
              "\n",
              "[8 rows x 9 columns]"
            ]
          },
          "metadata": {
            "tags": []
          },
          "execution_count": 14
        }
      ]
    },
    {
      "cell_type": "code",
      "metadata": {
        "id": "PfvkbEVDpfHg",
        "colab": {
          "base_uri": "https://localhost:8080/",
          "height": 289
        },
        "outputId": "3560af39-5378-40e2-b573-e1bca96bd075"
      },
      "source": [
        "df.isna().sum()"
      ],
      "execution_count": null,
      "outputs": [
        {
          "output_type": "execute_result",
          "data": {
            "text/plain": [
              "id                            1912\n",
              "graduacao                     1907\n",
              "universidade                  1937\n",
              "profissao                     1880\n",
              "organizacao                   1896\n",
              "pretende_fazer_cursos_lit     1868\n",
              "interesse_mba_lit             1854\n",
              "importante_ter_certificado    1939\n",
              "horas_semanais_estudo         1898\n",
              "como_conheceu_lit             1942\n",
              "total_modulos                 1870\n",
              "modulos_iniciados             1813\n",
              "modulos_finalizados           1933\n",
              "certificados                  1878\n",
              "categoria                        0\n",
              "dtype: int64"
            ]
          },
          "metadata": {
            "tags": []
          },
          "execution_count": 15
        }
      ]
    },
    {
      "cell_type": "code",
      "metadata": {
        "id": "NRKmwSTq7JGE",
        "colab": {
          "base_uri": "https://localhost:8080/",
          "height": 272
        },
        "outputId": "57520a6a-651d-404f-ac7e-d0619a2eb387"
      },
      "source": [
        "test.isna().sum()"
      ],
      "execution_count": null,
      "outputs": [
        {
          "output_type": "execute_result",
          "data": {
            "text/plain": [
              "id                            0\n",
              "graduacao                     0\n",
              "universidade                  0\n",
              "profissao                     0\n",
              "organizacao                   0\n",
              "pretende_fazer_cursos_lit     0\n",
              "interesse_mba_lit             0\n",
              "importante_ter_certificado    0\n",
              "horas_semanais_estudo         0\n",
              "como_conheceu_lit             0\n",
              "total_modulos                 0\n",
              "modulos_iniciados             0\n",
              "modulos_finalizados           0\n",
              "certificados                  0\n",
              "dtype: int64"
            ]
          },
          "metadata": {
            "tags": []
          },
          "execution_count": 16
        }
      ]
    },
    {
      "cell_type": "code",
      "metadata": {
        "id": "lpO-3VqkrGZV",
        "colab": {
          "base_uri": "https://localhost:8080/",
          "height": 289
        },
        "outputId": "c9452863-a673-4a71-ad49-b2b855d648e8"
      },
      "source": [
        "df.nunique()"
      ],
      "execution_count": null,
      "outputs": [
        {
          "output_type": "execute_result",
          "data": {
            "text/plain": [
              "id                            13945\n",
              "graduacao                         6\n",
              "universidade                     21\n",
              "profissao                        12\n",
              "organizacao                      11\n",
              "pretende_fazer_cursos_lit         2\n",
              "interesse_mba_lit                 2\n",
              "importante_ter_certificado        1\n",
              "horas_semanais_estudo             9\n",
              "como_conheceu_lit                 9\n",
              "total_modulos                   578\n",
              "modulos_iniciados               372\n",
              "modulos_finalizados             339\n",
              "certificados                     23\n",
              "categoria                         6\n",
              "dtype: int64"
            ]
          },
          "metadata": {
            "tags": []
          },
          "execution_count": 17
        }
      ]
    },
    {
      "cell_type": "code",
      "metadata": {
        "id": "VOuk-2GITta1",
        "colab": {
          "base_uri": "https://localhost:8080/",
          "height": 51
        },
        "outputId": "2b1fecf3-c4bc-46d2-fe4a-5acc8d0bdf2b"
      },
      "source": [
        "df.importante_ter_certificado.value_counts()"
      ],
      "execution_count": null,
      "outputs": [
        {
          "output_type": "execute_result",
          "data": {
            "text/plain": [
              "1.0    13918\n",
              "Name: importante_ter_certificado, dtype: int64"
            ]
          },
          "metadata": {
            "tags": []
          },
          "execution_count": 18
        }
      ]
    },
    {
      "cell_type": "code",
      "metadata": {
        "id": "4aVLQUjGreSW",
        "colab": {
          "base_uri": "https://localhost:8080/",
          "height": 348
        },
        "outputId": "41202a09-b6d5-4c28-8887-f9bb83385aac"
      },
      "source": [
        "df.corr()"
      ],
      "execution_count": null,
      "outputs": [
        {
          "output_type": "execute_result",
          "data": {
            "text/html": [
              "<div>\n",
              "<style scoped>\n",
              "    .dataframe tbody tr th:only-of-type {\n",
              "        vertical-align: middle;\n",
              "    }\n",
              "\n",
              "    .dataframe tbody tr th {\n",
              "        vertical-align: top;\n",
              "    }\n",
              "\n",
              "    .dataframe thead th {\n",
              "        text-align: right;\n",
              "    }\n",
              "</style>\n",
              "<table border=\"1\" class=\"dataframe\">\n",
              "  <thead>\n",
              "    <tr style=\"text-align: right;\">\n",
              "      <th></th>\n",
              "      <th>id</th>\n",
              "      <th>pretende_fazer_cursos_lit</th>\n",
              "      <th>interesse_mba_lit</th>\n",
              "      <th>importante_ter_certificado</th>\n",
              "      <th>horas_semanais_estudo</th>\n",
              "      <th>total_modulos</th>\n",
              "      <th>modulos_iniciados</th>\n",
              "      <th>modulos_finalizados</th>\n",
              "      <th>certificados</th>\n",
              "    </tr>\n",
              "  </thead>\n",
              "  <tbody>\n",
              "    <tr>\n",
              "      <th>id</th>\n",
              "      <td>1.000000</td>\n",
              "      <td>0.008512</td>\n",
              "      <td>0.013496</td>\n",
              "      <td>NaN</td>\n",
              "      <td>-0.002533</td>\n",
              "      <td>-0.006585</td>\n",
              "      <td>-0.009891</td>\n",
              "      <td>-0.012741</td>\n",
              "      <td>0.007366</td>\n",
              "    </tr>\n",
              "    <tr>\n",
              "      <th>pretende_fazer_cursos_lit</th>\n",
              "      <td>0.008512</td>\n",
              "      <td>1.000000</td>\n",
              "      <td>1.000000</td>\n",
              "      <td>NaN</td>\n",
              "      <td>0.000160</td>\n",
              "      <td>0.015072</td>\n",
              "      <td>0.013698</td>\n",
              "      <td>0.008942</td>\n",
              "      <td>0.004853</td>\n",
              "    </tr>\n",
              "    <tr>\n",
              "      <th>interesse_mba_lit</th>\n",
              "      <td>0.013496</td>\n",
              "      <td>1.000000</td>\n",
              "      <td>1.000000</td>\n",
              "      <td>NaN</td>\n",
              "      <td>0.000273</td>\n",
              "      <td>0.010645</td>\n",
              "      <td>0.013059</td>\n",
              "      <td>0.007669</td>\n",
              "      <td>0.011617</td>\n",
              "    </tr>\n",
              "    <tr>\n",
              "      <th>importante_ter_certificado</th>\n",
              "      <td>NaN</td>\n",
              "      <td>NaN</td>\n",
              "      <td>NaN</td>\n",
              "      <td>NaN</td>\n",
              "      <td>NaN</td>\n",
              "      <td>NaN</td>\n",
              "      <td>NaN</td>\n",
              "      <td>NaN</td>\n",
              "      <td>NaN</td>\n",
              "    </tr>\n",
              "    <tr>\n",
              "      <th>horas_semanais_estudo</th>\n",
              "      <td>-0.002533</td>\n",
              "      <td>0.000160</td>\n",
              "      <td>0.000273</td>\n",
              "      <td>NaN</td>\n",
              "      <td>1.000000</td>\n",
              "      <td>-0.014426</td>\n",
              "      <td>-0.015174</td>\n",
              "      <td>-0.016198</td>\n",
              "      <td>-0.003723</td>\n",
              "    </tr>\n",
              "    <tr>\n",
              "      <th>total_modulos</th>\n",
              "      <td>-0.006585</td>\n",
              "      <td>0.015072</td>\n",
              "      <td>0.010645</td>\n",
              "      <td>NaN</td>\n",
              "      <td>-0.014426</td>\n",
              "      <td>1.000000</td>\n",
              "      <td>0.850781</td>\n",
              "      <td>0.772927</td>\n",
              "      <td>0.361118</td>\n",
              "    </tr>\n",
              "    <tr>\n",
              "      <th>modulos_iniciados</th>\n",
              "      <td>-0.009891</td>\n",
              "      <td>0.013698</td>\n",
              "      <td>0.013059</td>\n",
              "      <td>NaN</td>\n",
              "      <td>-0.015174</td>\n",
              "      <td>0.850781</td>\n",
              "      <td>1.000000</td>\n",
              "      <td>0.977808</td>\n",
              "      <td>0.557129</td>\n",
              "    </tr>\n",
              "    <tr>\n",
              "      <th>modulos_finalizados</th>\n",
              "      <td>-0.012741</td>\n",
              "      <td>0.008942</td>\n",
              "      <td>0.007669</td>\n",
              "      <td>NaN</td>\n",
              "      <td>-0.016198</td>\n",
              "      <td>0.772927</td>\n",
              "      <td>0.977808</td>\n",
              "      <td>1.000000</td>\n",
              "      <td>0.601158</td>\n",
              "    </tr>\n",
              "    <tr>\n",
              "      <th>certificados</th>\n",
              "      <td>0.007366</td>\n",
              "      <td>0.004853</td>\n",
              "      <td>0.011617</td>\n",
              "      <td>NaN</td>\n",
              "      <td>-0.003723</td>\n",
              "      <td>0.361118</td>\n",
              "      <td>0.557129</td>\n",
              "      <td>0.601158</td>\n",
              "      <td>1.000000</td>\n",
              "    </tr>\n",
              "  </tbody>\n",
              "</table>\n",
              "</div>"
            ],
            "text/plain": [
              "                                  id  ...  certificados\n",
              "id                          1.000000  ...      0.007366\n",
              "pretende_fazer_cursos_lit   0.008512  ...      0.004853\n",
              "interesse_mba_lit           0.013496  ...      0.011617\n",
              "importante_ter_certificado       NaN  ...           NaN\n",
              "horas_semanais_estudo      -0.002533  ...     -0.003723\n",
              "total_modulos              -0.006585  ...      0.361118\n",
              "modulos_iniciados          -0.009891  ...      0.557129\n",
              "modulos_finalizados        -0.012741  ...      0.601158\n",
              "certificados                0.007366  ...      1.000000\n",
              "\n",
              "[9 rows x 9 columns]"
            ]
          },
          "metadata": {
            "tags": []
          },
          "execution_count": 19
        }
      ]
    },
    {
      "cell_type": "code",
      "metadata": {
        "id": "0wMeAMBTxcDD",
        "colab": {
          "base_uri": "https://localhost:8080/",
          "height": 142
        },
        "outputId": "a02e0e12-dfe4-4bec-94b5-3af295ae0bd6"
      },
      "source": [
        "df.select_dtypes(include=object).head(3)"
      ],
      "execution_count": null,
      "outputs": [
        {
          "output_type": "execute_result",
          "data": {
            "text/html": [
              "<div>\n",
              "<style scoped>\n",
              "    .dataframe tbody tr th:only-of-type {\n",
              "        vertical-align: middle;\n",
              "    }\n",
              "\n",
              "    .dataframe tbody tr th {\n",
              "        vertical-align: top;\n",
              "    }\n",
              "\n",
              "    .dataframe thead th {\n",
              "        text-align: right;\n",
              "    }\n",
              "</style>\n",
              "<table border=\"1\" class=\"dataframe\">\n",
              "  <thead>\n",
              "    <tr style=\"text-align: right;\">\n",
              "      <th></th>\n",
              "      <th>graduacao</th>\n",
              "      <th>universidade</th>\n",
              "      <th>profissao</th>\n",
              "      <th>organizacao</th>\n",
              "      <th>como_conheceu_lit</th>\n",
              "      <th>categoria</th>\n",
              "    </tr>\n",
              "  </thead>\n",
              "  <tbody>\n",
              "    <tr>\n",
              "      <th>0</th>\n",
              "      <td>Especialização</td>\n",
              "      <td>UNIP</td>\n",
              "      <td>Analista Senior</td>\n",
              "      <td>Eletrodomesticos</td>\n",
              "      <td>Google</td>\n",
              "      <td>perfil6</td>\n",
              "    </tr>\n",
              "    <tr>\n",
              "      <th>1</th>\n",
              "      <td>MBA</td>\n",
              "      <td>NaN</td>\n",
              "      <td>Supervisor</td>\n",
              "      <td>e-commerce</td>\n",
              "      <td>NaN</td>\n",
              "      <td>perfil2</td>\n",
              "    </tr>\n",
              "    <tr>\n",
              "      <th>2</th>\n",
              "      <td>Bacharelado</td>\n",
              "      <td>UNICAMP</td>\n",
              "      <td>Outros</td>\n",
              "      <td>e-commerce</td>\n",
              "      <td>Saint Paul</td>\n",
              "      <td>perfil2</td>\n",
              "    </tr>\n",
              "  </tbody>\n",
              "</table>\n",
              "</div>"
            ],
            "text/plain": [
              "        graduacao universidade  ... como_conheceu_lit categoria\n",
              "0  Especialização         UNIP  ...            Google   perfil6\n",
              "1             MBA          NaN  ...               NaN   perfil2\n",
              "2     Bacharelado      UNICAMP  ...        Saint Paul   perfil2\n",
              "\n",
              "[3 rows x 6 columns]"
            ]
          },
          "metadata": {
            "tags": []
          },
          "execution_count": 20
        }
      ]
    },
    {
      "cell_type": "code",
      "metadata": {
        "id": "eHlBJLzmyl4X",
        "colab": {
          "base_uri": "https://localhost:8080/",
          "height": 391
        },
        "outputId": "66ed1c5e-092f-40da-e95a-a1c121e4dd6c"
      },
      "source": [
        "df.universidade.value_counts()"
      ],
      "execution_count": null,
      "outputs": [
        {
          "output_type": "execute_result",
          "data": {
            "text/plain": [
              "INSPER INSTITUTO DE ENSINO E PESQUISA    696\n",
              "UFPE                                     696\n",
              "UEPB                                     694\n",
              "UNIP                                     690\n",
              "Unesp                                    684\n",
              "Escola Paulista de Direito               677\n",
              "UFRN                                     673\n",
              "UFRJ                                     673\n",
              "FACULDADE ANHANGUERA                     672\n",
              "UNIVERSIDADE CRUZEIRO DO SUL             670\n",
              "Universidade Metodista de Sao Paulo      669\n",
              "USP                                      662\n",
              "UNICAMP                                  660\n",
              "UNIVERSIDADE PRESBITERIANA MACKENZIE     656\n",
              "UFSCar                                   654\n",
              "UNIVERSIDADE ESTADUAL DE PONTA GROSSA    654\n",
              "FGV-RJ                                   651\n",
              "UNIVERSIDADE NOVE DE JULHO               632\n",
              "UFF                                      631\n",
              "FATEC                                    621\n",
              "CENTRO UNIVERSITÁRIO ESTÁCIO DA SÁ       605\n",
              "Name: universidade, dtype: int64"
            ]
          },
          "metadata": {
            "tags": []
          },
          "execution_count": 21
        }
      ]
    },
    {
      "cell_type": "code",
      "metadata": {
        "id": "GhvNC3AA70ir",
        "colab": {
          "base_uri": "https://localhost:8080/",
          "height": 136
        },
        "outputId": "4bce723a-06b4-465e-84c4-c88224b9ff4d"
      },
      "source": [
        "df.graduacao.value_counts()"
      ],
      "execution_count": null,
      "outputs": [
        {
          "output_type": "execute_result",
          "data": {
            "text/plain": [
              "Licenciatura      2398\n",
              "Bacharelado       2329\n",
              "Especialização    2321\n",
              "MBA               2311\n",
              "Tecnólogo         2296\n",
              "SEM FORMAÇÃO      2295\n",
              "Name: graduacao, dtype: int64"
            ]
          },
          "metadata": {
            "tags": []
          },
          "execution_count": 22
        }
      ]
    },
    {
      "cell_type": "markdown",
      "metadata": {
        "id": "dFhNdewbo3oo"
      },
      "source": [
        "## Pre processamento"
      ]
    },
    {
      "cell_type": "markdown",
      "metadata": {
        "id": "whk3UKSDrWo2"
      },
      "source": [
        "### Drop"
      ]
    },
    {
      "cell_type": "code",
      "metadata": {
        "id": "OexifV_WsOlq",
        "colab": {
          "base_uri": "https://localhost:8080/",
          "height": 51
        },
        "outputId": "38ee79e8-98d8-4c49-a2a4-aa3756696489"
      },
      "source": [
        "colsToDrop = [\"id\", \"importante_ter_certificado\"\n",
        "              #\"profissao\", \"graduacao\", \"modulos_iniciados\", \n",
        "              #\"pretende_fazer_cursos_lit\", \"como_conheceu_lit\",\n",
        "              #\"universidade\", \"organizacao\"\n",
        "              ]\n",
        "for col in colsToDrop:\n",
        "  try: df.drop(col, axis=1, inplace=True)\n",
        "  except: print(f\"{col} already droped\")"
      ],
      "execution_count": null,
      "outputs": [
        {
          "output_type": "stream",
          "text": [
            "id already droped\n",
            "importante_ter_certificado already droped\n"
          ],
          "name": "stdout"
        }
      ]
    },
    {
      "cell_type": "markdown",
      "metadata": {
        "id": "O3x7wqnnGrlE"
      },
      "source": [
        "### Fillna"
      ]
    },
    {
      "cell_type": "code",
      "metadata": {
        "id": "e2Nzc-kIzXce",
        "colab": {
          "base_uri": "https://localhost:8080/",
          "height": 165
        },
        "outputId": "69eb5192-27f4-4720-c5b1-6ec52aa24838"
      },
      "source": [
        "colsNumber = df.select_dtypes(include=\"number\").columns"
      ],
      "execution_count": null,
      "outputs": [
        {
          "output_type": "error",
          "ename": "NameError",
          "evalue": "ignored",
          "traceback": [
            "\u001b[0;31m---------------------------------------------------------------------------\u001b[0m",
            "\u001b[0;31mNameError\u001b[0m                                 Traceback (most recent call last)",
            "\u001b[0;32m<ipython-input-2-02b52cf0fd09>\u001b[0m in \u001b[0;36m<module>\u001b[0;34m()\u001b[0m\n\u001b[0;32m----> 1\u001b[0;31m \u001b[0mcolsNumber\u001b[0m \u001b[0;34m=\u001b[0m \u001b[0mdf\u001b[0m\u001b[0;34m.\u001b[0m\u001b[0mselect_dtypes\u001b[0m\u001b[0;34m(\u001b[0m\u001b[0minclude\u001b[0m\u001b[0;34m=\u001b[0m\u001b[0;34m\"number\"\u001b[0m\u001b[0;34m)\u001b[0m\u001b[0;34m.\u001b[0m\u001b[0mcolumns\u001b[0m\u001b[0;34m\u001b[0m\u001b[0;34m\u001b[0m\u001b[0m\n\u001b[0m",
            "\u001b[0;31mNameError\u001b[0m: name 'df' is not defined"
          ]
        }
      ]
    },
    {
      "cell_type": "code",
      "metadata": {
        "id": "daG-bjA5GjiD"
      },
      "source": [
        "df[colsNumber] = df[colsNumber].fillna(0)"
      ],
      "execution_count": null,
      "outputs": []
    },
    {
      "cell_type": "code",
      "metadata": {
        "id": "G-IeDYOh9FSW"
      },
      "source": [
        "df[\"graduacao\"].fillna(\"SEM FORMAÇÃO\", inplace=True)\n",
        "df[\"profissao\"].fillna(\"SEM EXPERIÊNCIA\", inplace=True)\n",
        "df[\"como_conheceu_lit\"].fillna(\"OUTROS\", inplace=True)\n",
        "df[\"organizacao\"].fillna(\"Eletroeletronicos\", inplace=True)\n",
        "df[\"universidade\"].fillna(\"FATEC\", inplace=True)"
      ],
      "execution_count": null,
      "outputs": []
    },
    {
      "cell_type": "markdown",
      "metadata": {
        "id": "toCuwwbnG8wu"
      },
      "source": [
        "### Bin"
      ]
    },
    {
      "cell_type": "code",
      "metadata": {
        "id": "yJsRES-CHWwn"
      },
      "source": [
        "# df.loc[df[\"certificados\"] > 0, \"certificados\"] = 1\n",
        "# df.certificados.value_counts()"
      ],
      "execution_count": null,
      "outputs": []
    },
    {
      "cell_type": "code",
      "metadata": {
        "id": "b6OuFkALIQNJ"
      },
      "source": [
        "colsToBin = ['horas_semanais_estudo', 'total_modulos', 'modulos_finalizados', \"modulos_iniciados\"]\n",
        "\n",
        "# est = KBinsDiscretizer(n_bins=5, encode='ordinal', strategy='uniform')\n",
        "# df[colsToBin] = est.fit_transform(df[colsToBin]).astype(int)"
      ],
      "execution_count": null,
      "outputs": []
    },
    {
      "cell_type": "markdown",
      "metadata": {
        "id": "DgE6hN-jQAVn"
      },
      "source": [
        "### Label Enconding"
      ]
    },
    {
      "cell_type": "code",
      "metadata": {
        "id": "ITrmpi2KJh-P"
      },
      "source": [
        "colsToDummy = ['universidade', \"organizacao\", \"como_conheceu_lit\",\n",
        "               'graduacao', 'profissao'] \n",
        "# df = pd.get_dummies(df, columns=colsToDummy)"
      ],
      "execution_count": null,
      "outputs": []
    },
    {
      "cell_type": "code",
      "metadata": {
        "id": "7Y-Se8QwfnVj"
      },
      "source": [
        "# df[\"categoria\"].map(lambda x: x[-1])"
      ],
      "execution_count": null,
      "outputs": []
    },
    {
      "cell_type": "code",
      "metadata": {
        "id": "qsdlRjqr8fN0"
      },
      "source": [
        "le = LabelEncoder()\n",
        "df[colsToDummy] = df[colsToDummy].apply(lambda x: le.fit_transform(x)).astype(int)"
      ],
      "execution_count": null,
      "outputs": []
    },
    {
      "cell_type": "markdown",
      "metadata": {
        "id": "j-x4C_Lxg85S"
      },
      "source": [
        "---"
      ]
    },
    {
      "cell_type": "code",
      "metadata": {
        "id": "-fk3FU2H_Ab3",
        "colab": {
          "base_uri": "https://localhost:8080/",
          "height": 439
        },
        "outputId": "42e41ddc-77b6-40f0-894f-f60bb0bc3f0d"
      },
      "source": [
        "df"
      ],
      "execution_count": null,
      "outputs": [
        {
          "output_type": "execute_result",
          "data": {
            "text/html": [
              "<div>\n",
              "<style scoped>\n",
              "    .dataframe tbody tr th:only-of-type {\n",
              "        vertical-align: middle;\n",
              "    }\n",
              "\n",
              "    .dataframe tbody tr th {\n",
              "        vertical-align: top;\n",
              "    }\n",
              "\n",
              "    .dataframe thead th {\n",
              "        text-align: right;\n",
              "    }\n",
              "</style>\n",
              "<table border=\"1\" class=\"dataframe\">\n",
              "  <thead>\n",
              "    <tr style=\"text-align: right;\">\n",
              "      <th></th>\n",
              "      <th>graduacao</th>\n",
              "      <th>universidade</th>\n",
              "      <th>profissao</th>\n",
              "      <th>organizacao</th>\n",
              "      <th>pretende_fazer_cursos_lit</th>\n",
              "      <th>interesse_mba_lit</th>\n",
              "      <th>horas_semanais_estudo</th>\n",
              "      <th>como_conheceu_lit</th>\n",
              "      <th>total_modulos</th>\n",
              "      <th>modulos_iniciados</th>\n",
              "      <th>modulos_finalizados</th>\n",
              "      <th>certificados</th>\n",
              "      <th>categoria</th>\n",
              "    </tr>\n",
              "  </thead>\n",
              "  <tbody>\n",
              "    <tr>\n",
              "      <th>0</th>\n",
              "      <td>1</td>\n",
              "      <td>13</td>\n",
              "      <td>2</td>\n",
              "      <td>1</td>\n",
              "      <td>1.0</td>\n",
              "      <td>1.0</td>\n",
              "      <td>6.0</td>\n",
              "      <td>1</td>\n",
              "      <td>28.0</td>\n",
              "      <td>5.0</td>\n",
              "      <td>4.0</td>\n",
              "      <td>0.0</td>\n",
              "      <td>perfil6</td>\n",
              "    </tr>\n",
              "    <tr>\n",
              "      <th>1</th>\n",
              "      <td>3</td>\n",
              "      <td>3</td>\n",
              "      <td>10</td>\n",
              "      <td>9</td>\n",
              "      <td>0.0</td>\n",
              "      <td>0.0</td>\n",
              "      <td>6.0</td>\n",
              "      <td>6</td>\n",
              "      <td>66.0</td>\n",
              "      <td>36.0</td>\n",
              "      <td>34.0</td>\n",
              "      <td>0.0</td>\n",
              "      <td>perfil2</td>\n",
              "    </tr>\n",
              "    <tr>\n",
              "      <th>2</th>\n",
              "      <td>0</td>\n",
              "      <td>12</td>\n",
              "      <td>8</td>\n",
              "      <td>9</td>\n",
              "      <td>1.0</td>\n",
              "      <td>1.0</td>\n",
              "      <td>10.0</td>\n",
              "      <td>8</td>\n",
              "      <td>27.0</td>\n",
              "      <td>27.0</td>\n",
              "      <td>27.0</td>\n",
              "      <td>0.0</td>\n",
              "      <td>perfil2</td>\n",
              "    </tr>\n",
              "    <tr>\n",
              "      <th>3</th>\n",
              "      <td>4</td>\n",
              "      <td>10</td>\n",
              "      <td>8</td>\n",
              "      <td>2</td>\n",
              "      <td>0.0</td>\n",
              "      <td>1.0</td>\n",
              "      <td>5.0</td>\n",
              "      <td>2</td>\n",
              "      <td>29.0</td>\n",
              "      <td>10.0</td>\n",
              "      <td>6.0</td>\n",
              "      <td>0.0</td>\n",
              "      <td>perfil5</td>\n",
              "    </tr>\n",
              "    <tr>\n",
              "      <th>4</th>\n",
              "      <td>5</td>\n",
              "      <td>5</td>\n",
              "      <td>9</td>\n",
              "      <td>1</td>\n",
              "      <td>0.0</td>\n",
              "      <td>0.0</td>\n",
              "      <td>7.0</td>\n",
              "      <td>1</td>\n",
              "      <td>67.0</td>\n",
              "      <td>49.0</td>\n",
              "      <td>44.0</td>\n",
              "      <td>0.0</td>\n",
              "      <td>perfil2</td>\n",
              "    </tr>\n",
              "    <tr>\n",
              "      <th>...</th>\n",
              "      <td>...</td>\n",
              "      <td>...</td>\n",
              "      <td>...</td>\n",
              "      <td>...</td>\n",
              "      <td>...</td>\n",
              "      <td>...</td>\n",
              "      <td>...</td>\n",
              "      <td>...</td>\n",
              "      <td>...</td>\n",
              "      <td>...</td>\n",
              "      <td>...</td>\n",
              "      <td>...</td>\n",
              "      <td>...</td>\n",
              "    </tr>\n",
              "    <tr>\n",
              "      <th>15852</th>\n",
              "      <td>0</td>\n",
              "      <td>7</td>\n",
              "      <td>8</td>\n",
              "      <td>0</td>\n",
              "      <td>0.0</td>\n",
              "      <td>0.0</td>\n",
              "      <td>8.0</td>\n",
              "      <td>6</td>\n",
              "      <td>10.0</td>\n",
              "      <td>0.0</td>\n",
              "      <td>0.0</td>\n",
              "      <td>0.0</td>\n",
              "      <td>perfil6</td>\n",
              "    </tr>\n",
              "    <tr>\n",
              "      <th>15853</th>\n",
              "      <td>0</td>\n",
              "      <td>3</td>\n",
              "      <td>0</td>\n",
              "      <td>2</td>\n",
              "      <td>0.0</td>\n",
              "      <td>0.0</td>\n",
              "      <td>7.0</td>\n",
              "      <td>3</td>\n",
              "      <td>42.0</td>\n",
              "      <td>17.0</td>\n",
              "      <td>15.0</td>\n",
              "      <td>0.0</td>\n",
              "      <td>perfil5</td>\n",
              "    </tr>\n",
              "    <tr>\n",
              "      <th>15854</th>\n",
              "      <td>5</td>\n",
              "      <td>13</td>\n",
              "      <td>11</td>\n",
              "      <td>2</td>\n",
              "      <td>0.0</td>\n",
              "      <td>0.0</td>\n",
              "      <td>7.0</td>\n",
              "      <td>7</td>\n",
              "      <td>30.0</td>\n",
              "      <td>9.0</td>\n",
              "      <td>8.0</td>\n",
              "      <td>0.0</td>\n",
              "      <td>perfil5</td>\n",
              "    </tr>\n",
              "    <tr>\n",
              "      <th>15855</th>\n",
              "      <td>4</td>\n",
              "      <td>16</td>\n",
              "      <td>0</td>\n",
              "      <td>4</td>\n",
              "      <td>0.0</td>\n",
              "      <td>0.0</td>\n",
              "      <td>10.0</td>\n",
              "      <td>6</td>\n",
              "      <td>226.0</td>\n",
              "      <td>102.0</td>\n",
              "      <td>93.0</td>\n",
              "      <td>1.0</td>\n",
              "      <td>perfil1</td>\n",
              "    </tr>\n",
              "    <tr>\n",
              "      <th>15856</th>\n",
              "      <td>4</td>\n",
              "      <td>4</td>\n",
              "      <td>9</td>\n",
              "      <td>8</td>\n",
              "      <td>1.0</td>\n",
              "      <td>1.0</td>\n",
              "      <td>9.0</td>\n",
              "      <td>7</td>\n",
              "      <td>125.0</td>\n",
              "      <td>98.0</td>\n",
              "      <td>97.0</td>\n",
              "      <td>1.0</td>\n",
              "      <td>perfil1</td>\n",
              "    </tr>\n",
              "  </tbody>\n",
              "</table>\n",
              "<p>15857 rows × 13 columns</p>\n",
              "</div>"
            ],
            "text/plain": [
              "       graduacao  universidade  ...  certificados  categoria\n",
              "0              1            13  ...           0.0    perfil6\n",
              "1              3             3  ...           0.0    perfil2\n",
              "2              0            12  ...           0.0    perfil2\n",
              "3              4            10  ...           0.0    perfil5\n",
              "4              5             5  ...           0.0    perfil2\n",
              "...          ...           ...  ...           ...        ...\n",
              "15852          0             7  ...           0.0    perfil6\n",
              "15853          0             3  ...           0.0    perfil5\n",
              "15854          5            13  ...           0.0    perfil5\n",
              "15855          4            16  ...           1.0    perfil1\n",
              "15856          4             4  ...           1.0    perfil1\n",
              "\n",
              "[15857 rows x 13 columns]"
            ]
          },
          "metadata": {
            "tags": []
          },
          "execution_count": 45
        }
      ]
    },
    {
      "cell_type": "markdown",
      "metadata": {
        "id": "ufaB0W55J0Gl"
      },
      "source": [
        "## Train"
      ]
    },
    {
      "cell_type": "code",
      "metadata": {
        "id": "zd6A_buWJ3uM",
        "colab": {
          "base_uri": "https://localhost:8080/",
          "height": 34
        },
        "outputId": "e7a15d9b-bef3-4cde-ab84-57fd9dd55b01"
      },
      "source": [
        "X = df[[\"certificados\", \"modulos_finalizados\", \"modulos_iniciados\", \"total_modulos\"]]\n",
        "# X = df.drop(\"categoria\", axis=1)\n",
        "y = df[\"categoria\"]\n",
        "\n",
        "Xtrain, Xtest, ytrain, ytest = train_test_split(X, y, train_size=.7, random_state=0)\n",
        "Xtrain.shape, Xtest.shape, ytrain.shape, ytest.shape"
      ],
      "execution_count": null,
      "outputs": [
        {
          "output_type": "execute_result",
          "data": {
            "text/plain": [
              "((11099, 4), (4758, 4), (11099,), (4758,))"
            ]
          },
          "metadata": {
            "tags": []
          },
          "execution_count": 11
        }
      ]
    },
    {
      "cell_type": "markdown",
      "metadata": {
        "id": "l8hmZuqooM1p"
      },
      "source": [
        "## Modelando"
      ]
    },
    {
      "cell_type": "code",
      "metadata": {
        "id": "T6y-EwD_iyTh",
        "colab": {
          "base_uri": "https://localhost:8080/",
          "height": 255
        },
        "outputId": "0597f748-a719-4f66-a4bf-3491acf150b0"
      },
      "source": [
        "from xgboost import XGBClassifier\n",
        "mdl = XGBClassifier()\n",
        "mdl.fit(Xtrain, ytrain)\n",
        "p = mdl.predict(Xtest)\n",
        "print(f1_score(ytest, p, average=\"macro\"))\n",
        "print(classification_report(ytest, p, digits=4))"
      ],
      "execution_count": null,
      "outputs": [
        {
          "output_type": "stream",
          "text": [
            "0.7876517208372954\n",
            "              precision    recall  f1-score   support\n",
            "\n",
            "     perfil1     0.8200    0.7198    0.7666       753\n",
            "     perfil2     0.7837    0.8439    0.8127      1262\n",
            "     perfil3     0.7755    0.7451    0.7600       306\n",
            "     perfil4     0.7601    0.7663    0.7632       492\n",
            "     perfil5     0.8124    0.7750    0.7933       609\n",
            "     perfil6     0.8208    0.8398    0.8302      1336\n",
            "\n",
            "    accuracy                         0.7999      4758\n",
            "   macro avg     0.7954    0.7817    0.7877      4758\n",
            "weighted avg     0.8005    0.7999    0.7993      4758\n",
            "\n"
          ],
          "name": "stdout"
        }
      ]
    },
    {
      "cell_type": "code",
      "metadata": {
        "id": "Pl6xN__r1mm9",
        "colab": {
          "base_uri": "https://localhost:8080/",
          "height": 34
        },
        "outputId": "e19755dc-f071-4b45-fdc1-7df7e7187e2b"
      },
      "source": [
        "from sklearn.ensemble import GradientBoostingClassifier\n",
        "GBC = GradientBoostingClassifier()\n",
        "GBC.fit(Xtrain, ytrain)\n",
        "GBC_p = GBC.predict(Xtest)\n",
        "print(f1_score(ytest, GBC_p, average=\"macro\"))"
      ],
      "execution_count": null,
      "outputs": [
        {
          "output_type": "stream",
          "text": [
            "0.7867238405258293\n"
          ],
          "name": "stdout"
        }
      ]
    },
    {
      "cell_type": "code",
      "metadata": {
        "id": "K5BPkTC3M0Rm"
      },
      "source": [
        "tp = TPOTClassifier(random_state=0, verbosity=2, scoring=\"f1_macro\",\n",
        "                    config_dict=\"TPOT light\")\n",
        "tp.fit(Xtrain, ytrain)\n",
        "tp.export(\"pipeline4\")"
      ],
      "execution_count": null,
      "outputs": []
    },
    {
      "cell_type": "code",
      "metadata": {
        "id": "HBVYoKC2doCx",
        "colab": {
          "base_uri": "https://localhost:8080/",
          "height": 238
        },
        "outputId": "2006c4a8-0473-4481-ede5-51890427db01"
      },
      "source": [
        "from sklearn.ensemble import RandomForestClassifier\n",
        "RFC = RandomForestClassifier(bootstrap=True, criterion=\"entropy\", \n",
        "                             max_features=0.9, min_samples_leaf=4, \n",
        "                             min_samples_split=2, n_estimators=100)\n",
        "RFC.fit(Xtrain, ytrain)\n",
        "p = RFC.predict(Xtest)\n",
        "print(classification_report(ytest, p, digits=4))"
      ],
      "execution_count": null,
      "outputs": [
        {
          "output_type": "stream",
          "text": [
            "              precision    recall  f1-score   support\n",
            "\n",
            "     perfil1     0.8175    0.7198    0.7655       753\n",
            "     perfil2     0.7845    0.8479    0.8149      1262\n",
            "     perfil3     0.7736    0.7484    0.7608       306\n",
            "     perfil4     0.7584    0.7785    0.7683       492\n",
            "     perfil5     0.8092    0.7800    0.7943       609\n",
            "     perfil6     0.8317    0.8361    0.8339      1336\n",
            "\n",
            "    accuracy                         0.8020      4758\n",
            "   macro avg     0.7958    0.7851    0.7896      4758\n",
            "weighted avg     0.8027    0.8020    0.8015      4758\n",
            "\n"
          ],
          "name": "stdout"
        }
      ]
    },
    {
      "cell_type": "code",
      "metadata": {
        "id": "1hrKfBXY4Fee",
        "colab": {
          "base_uri": "https://localhost:8080/",
          "height": 238
        },
        "outputId": "61aca7f5-b8d4-45a5-b4f5-b8dc1a427d33"
      },
      "source": [
        "from sklearn.pipeline import make_pipeline\n",
        "from tpot.export_utils import set_param_recursive\n",
        "from sklearn.preprocessing import StandardScaler\n",
        "from sklearn.tree import DecisionTreeClassifier\n",
        "\n",
        "# Average CV score on the training set was: 0.8019035713252997\n",
        "exported_pipeline = make_pipeline(\n",
        "    StandardScaler(),\n",
        "    DecisionTreeClassifier(criterion=\"gini\", max_depth=7, min_samples_leaf=6, min_samples_split=8)\n",
        ")\n",
        "# Fix random state for all the steps in exported pipeline\n",
        "set_param_recursive(exported_pipeline.steps, 'random_state', 0)\n",
        "\n",
        "exported_pipeline.fit(Xtrain, ytrain)\n",
        "results = exported_pipeline.predict(Xtest)\n",
        "print(classification_report(ytest, results, digits=4))"
      ],
      "execution_count": null,
      "outputs": [
        {
          "output_type": "stream",
          "text": [
            "              precision    recall  f1-score   support\n",
            "\n",
            "     perfil1     0.8163    0.7198    0.7650       753\n",
            "     perfil2     0.7854    0.8439    0.8136      1262\n",
            "     perfil3     0.7763    0.7484    0.7621       306\n",
            "     perfil4     0.7550    0.7703    0.7626       492\n",
            "     perfil5     0.8048    0.7783    0.7913       609\n",
            "     perfil6     0.8240    0.8338    0.8289      1336\n",
            "\n",
            "    accuracy                         0.7993      4758\n",
            "   macro avg     0.7936    0.7824    0.7872      4758\n",
            "weighted avg     0.7999    0.7993    0.7988      4758\n",
            "\n"
          ],
          "name": "stdout"
        }
      ]
    },
    {
      "cell_type": "code",
      "metadata": {
        "id": "5gBLv3-mp_zA",
        "colab": {
          "base_uri": "https://localhost:8080/",
          "height": 238
        },
        "outputId": "905b3b46-89a1-476a-f58e-84200dacd540"
      },
      "source": [
        "from sklearn.pipeline import make_pipeline\n",
        "from sklearn.tree import DecisionTreeClassifier\n",
        "from tpot.builtins import ZeroCount\n",
        "from tpot.export_utils import set_param_recursive\n",
        "\n",
        "# Average CV score on the training set was: 0.8005146399954957\n",
        "exported_pipeline = make_pipeline(\n",
        "    ZeroCount(),\n",
        "    DecisionTreeClassifier(criterion=\"gini\", max_depth=8, min_samples_leaf=7, min_samples_split=14)\n",
        ")\n",
        "# Fix random state for all the steps in exported pipeline\n",
        "set_param_recursive(exported_pipeline.steps, 'random_state', 0)\n",
        "\n",
        "exported_pipeline.fit(Xtrain, ytrain)\n",
        "results = exported_pipeline.predict(Xtest)\n",
        "print(classification_report(ytest, results, digits=4))"
      ],
      "execution_count": null,
      "outputs": [
        {
          "output_type": "stream",
          "text": [
            "              precision    recall  f1-score   support\n",
            "\n",
            "     perfil1     0.8029    0.7251    0.7620       753\n",
            "     perfil2     0.7934    0.8368    0.8145      1262\n",
            "     perfil3     0.7664    0.7614    0.7639       306\n",
            "     perfil4     0.7393    0.7724    0.7555       492\n",
            "     perfil5     0.8058    0.7701    0.7876       609\n",
            "     perfil6     0.8211    0.8278    0.8245      1336\n",
            "\n",
            "    accuracy                         0.7966      4758\n",
            "   macro avg     0.7882    0.7823    0.7847      4758\n",
            "weighted avg     0.7969    0.7966    0.7962      4758\n",
            "\n"
          ],
          "name": "stdout"
        }
      ]
    },
    {
      "cell_type": "code",
      "metadata": {
        "id": "hMIS5CHQW3HP",
        "colab": {
          "base_uri": "https://localhost:8080/",
          "height": 238
        },
        "outputId": "a16b107a-71bd-465e-fbbf-86ffdb6b9fb1"
      },
      "source": [
        "from sklearn.feature_selection import SelectFwe, VarianceThreshold, f_classif\n",
        "from sklearn.pipeline import make_pipeline\n",
        "from xgboost import XGBClassifier\n",
        "from tpot.export_utils import set_param_recursive\n",
        "\n",
        "# Average CV score on the training set was: 0.804739694746322\n",
        "exported_pipeline = make_pipeline(\n",
        "    VarianceThreshold(threshold=0.2),\n",
        "    SelectFwe(score_func=f_classif, alpha=0.006),\n",
        "    XGBClassifier(learning_rate=0.1, max_depth=6, min_child_weight=10, \n",
        "                  n_estimators=100, nthread=1, subsample=0.95)\n",
        ")\n",
        "# Fix random state for all the steps in exported pipeline\n",
        "set_param_recursive(exported_pipeline.steps, 'random_state', 0)\n",
        "\n",
        "exported_pipeline.fit(Xtrain, ytrain)\n",
        "results = exported_pipeline.predict(Xtest)\n",
        "print(classification_report(ytest, results, digits=4))"
      ],
      "execution_count": null,
      "outputs": [
        {
          "output_type": "stream",
          "text": [
            "              precision    recall  f1-score   support\n",
            "\n",
            "     perfil1     0.8135    0.7185    0.7630       753\n",
            "     perfil2     0.7841    0.8431    0.8125      1262\n",
            "     perfil3     0.7782    0.7451    0.7613       306\n",
            "     perfil4     0.7560    0.7683    0.7621       492\n",
            "     perfil5     0.8068    0.7816    0.7940       609\n",
            "     perfil6     0.8263    0.8368    0.8315      1336\n",
            "\n",
            "    accuracy                         0.7997      4758\n",
            "   macro avg     0.7941    0.7822    0.7874      4758\n",
            "weighted avg     0.8002    0.7997    0.7991      4758\n",
            "\n"
          ],
          "name": "stdout"
        }
      ]
    },
    {
      "cell_type": "markdown",
      "metadata": {
        "id": "bTpGXYPxoGgu"
      },
      "source": [
        "## Feature Seletion"
      ]
    },
    {
      "cell_type": "code",
      "metadata": {
        "id": "fdlAzwlNqq3X",
        "colab": {
          "base_uri": "https://localhost:8080/",
          "height": 238
        },
        "outputId": "f6507aa3-4765-4479-ca60-6f8dec54e947"
      },
      "source": [
        "DTC = DecisionTreeClassifier()\n",
        "DTC.fit(Xtrain,ytrain)\n",
        "DTC_p = DTC.predict(Xtest)\n",
        "print(classification_report(ytest, DTC_p))\n",
        "\n",
        "for n in range(0, len(DTC.feature_importances_)):\n",
        "  print(f\"{X.columns[n]:<51} {DTC.feature_importances_[n]}\")"
      ],
      "execution_count": null,
      "outputs": [
        {
          "output_type": "stream",
          "text": [
            "              precision    recall  f1-score   support\n",
            "\n",
            "     perfil1       0.63      0.62      0.62       753\n",
            "     perfil2       0.71      0.71      0.71      1262\n",
            "     perfil3       0.64      0.62      0.63       306\n",
            "     perfil4       0.66      0.63      0.64       492\n",
            "     perfil5       0.71      0.71      0.71       609\n",
            "     perfil6       0.75      0.78      0.76      1336\n",
            "\n",
            "    accuracy                           0.70      4758\n",
            "   macro avg       0.68      0.68      0.68      4758\n",
            "weighted avg       0.70      0.70      0.70      4758\n",
            "\n"
          ],
          "name": "stdout"
        }
      ]
    },
    {
      "cell_type": "code",
      "metadata": {
        "id": "SsBHv0lT1XBC",
        "colab": {
          "base_uri": "https://localhost:8080/",
          "height": 119
        },
        "outputId": "25ac2196-a5ef-40fc-f79b-63469f19201a"
      },
      "source": [
        "k_vs_score = []\n",
        "\n",
        "for k in range(2,13,2):\n",
        "  selector = SelectKBest(score_func=f_classif, k=k)\n",
        "\n",
        "  Xtrain2 = selector.fit_transform(Xtrain, ytrain)\n",
        "  Xval2 = selector.transform(Xtest)\n",
        "\n",
        "  mdl2 = make_pipeline(\n",
        "    VarianceThreshold(threshold=0.2),\n",
        "    SelectFwe(score_func=f_classif, alpha=0.006),\n",
        "    XGBClassifier(learning_rate=0.1, max_depth=6, min_child_weight=10, \n",
        "                  n_estimators=100, nthread=1, subsample=0.95))\n",
        "  mdl2.fit(Xtrain2, ytrain)\n",
        "\n",
        "  p2 = mdl2.predict(Xval2)\n",
        "\n",
        "  score = f1_score(ytest, p2, average=\"micro\")\n",
        "  print(\"k = {} - f1 = {}\".format(k, score))\n",
        "\n",
        "  k_vs_score.append(score)"
      ],
      "execution_count": null,
      "outputs": [
        {
          "output_type": "stream",
          "text": [
            "k = 2 - f1 = 0.7635561160151324\n",
            "k = 4 - f1 = 0.7997057587221522\n",
            "k = 6 - f1 = 0.7997057587221522\n",
            "k = 8 - f1 = 0.7997057587221522\n",
            "k = 10 - f1 = 0.7997057587221522\n",
            "k = 12 - f1 = 0.7997057587221522\n"
          ],
          "name": "stdout"
        }
      ]
    },
    {
      "cell_type": "code",
      "metadata": {
        "id": "2t4PzbUk43fU",
        "colab": {
          "base_uri": "https://localhost:8080/",
          "height": 448
        },
        "outputId": "691ca219-4d14-450e-8539-521ec700b4f6"
      },
      "source": [
        "pd.Series(k_vs_score, index=range(2,13,2)).plot(figsize=(10,7));"
      ],
      "execution_count": null,
      "outputs": [
        {
          "output_type": "execute_result",
          "data": {
            "text/plain": [
              "<matplotlib.axes._subplots.AxesSubplot at 0x7f1cf045ef98>"
            ]
          },
          "metadata": {
            "tags": []
          },
          "execution_count": 50
        },
        {
          "output_type": "display_data",
          "data": {
            "image/png": "[encoded data removed]",
            "text/plain": [
              "<Figure size 720x504 with 1 Axes>"
            ]
          },
          "metadata": {
            "tags": []
          }
        }
      ]
    },
    {
      "cell_type": "code",
      "metadata": {
        "id": "nsR8rhOq6DMO",
        "colab": {
          "base_uri": "https://localhost:8080/",
          "height": 268
        },
        "outputId": "ec397079-63fc-421a-b1b4-3e4c86ba2a37"
      },
      "source": [
        "selector = SelectKBest(score_func=f_classif, k=8)\n",
        "selector.fit(Xtrain, ytrain)\n",
        "\n",
        "mask = selector.get_support()\n",
        "Xtest.columns[mask]\n",
        "\n",
        "pd.Series(selector.scores_, index=Xtrain.columns).sort_values().tail(8).plot.barh();"
      ],
      "execution_count": null,
      "outputs": [
        {
          "output_type": "display_data",
          "data": {
            "image/png": "[encoded data removed]",
            "text/plain": [
              "<Figure size 432x288 with 1 Axes>"
            ]
          },
          "metadata": {
            "tags": []
          }
        }
      ]
    },
    {
      "cell_type": "markdown",
      "metadata": {
        "id": "U83EMU2kkXSH"
      },
      "source": [
        "## Submission"
      ]
    },
    {
      "cell_type": "code",
      "metadata": {
        "id": "iHZ1kLzVkh4h",
        "colab": {
          "base_uri": "https://localhost:8080/",
          "height": 541
        },
        "outputId": "d27dc544-94a8-48d0-f93d-6bf803a03d15"
      },
      "source": [
        "test"
      ],
      "execution_count": null,
      "outputs": [
        {
          "output_type": "execute_result",
          "data": {
            "text/html": [
              "<div>\n",
              "<style scoped>\n",
              "    .dataframe tbody tr th:only-of-type {\n",
              "        vertical-align: middle;\n",
              "    }\n",
              "\n",
              "    .dataframe tbody tr th {\n",
              "        vertical-align: top;\n",
              "    }\n",
              "\n",
              "    .dataframe thead th {\n",
              "        text-align: right;\n",
              "    }\n",
              "</style>\n",
              "<table border=\"1\" class=\"dataframe\">\n",
              "  <thead>\n",
              "    <tr style=\"text-align: right;\">\n",
              "      <th></th>\n",
              "      <th>id</th>\n",
              "      <th>graduacao</th>\n",
              "      <th>universidade</th>\n",
              "      <th>profissao</th>\n",
              "      <th>organizacao</th>\n",
              "      <th>pretende_fazer_cursos_lit</th>\n",
              "      <th>interesse_mba_lit</th>\n",
              "      <th>importante_ter_certificado</th>\n",
              "      <th>horas_semanais_estudo</th>\n",
              "      <th>como_conheceu_lit</th>\n",
              "      <th>total_modulos</th>\n",
              "      <th>modulos_iniciados</th>\n",
              "      <th>modulos_finalizados</th>\n",
              "      <th>certificados</th>\n",
              "    </tr>\n",
              "  </thead>\n",
              "  <tbody>\n",
              "    <tr>\n",
              "      <th>0</th>\n",
              "      <td>648443203</td>\n",
              "      <td>Bacharelado</td>\n",
              "      <td>Unesp</td>\n",
              "      <td>Outros</td>\n",
              "      <td>Borracha</td>\n",
              "      <td>0</td>\n",
              "      <td>0</td>\n",
              "      <td>1</td>\n",
              "      <td>3</td>\n",
              "      <td>Saint Paul</td>\n",
              "      <td>58</td>\n",
              "      <td>3</td>\n",
              "      <td>2</td>\n",
              "      <td>0</td>\n",
              "    </tr>\n",
              "    <tr>\n",
              "      <th>1</th>\n",
              "      <td>423266690</td>\n",
              "      <td>Especialização</td>\n",
              "      <td>UNICAMP</td>\n",
              "      <td>SEM EXPERIÊNCIA</td>\n",
              "      <td>Eletrodomesticos</td>\n",
              "      <td>1</td>\n",
              "      <td>1</td>\n",
              "      <td>1</td>\n",
              "      <td>7</td>\n",
              "      <td>Mídia (revista/jornal/web)</td>\n",
              "      <td>62</td>\n",
              "      <td>19</td>\n",
              "      <td>17</td>\n",
              "      <td>0</td>\n",
              "    </tr>\n",
              "    <tr>\n",
              "      <th>2</th>\n",
              "      <td>315097368</td>\n",
              "      <td>Bacharelado</td>\n",
              "      <td>UNICAMP</td>\n",
              "      <td>Engenheiro</td>\n",
              "      <td>Oleo e Gas</td>\n",
              "      <td>0</td>\n",
              "      <td>0</td>\n",
              "      <td>1</td>\n",
              "      <td>9</td>\n",
              "      <td>Google</td>\n",
              "      <td>36</td>\n",
              "      <td>3</td>\n",
              "      <td>1</td>\n",
              "      <td>0</td>\n",
              "    </tr>\n",
              "    <tr>\n",
              "      <th>3</th>\n",
              "      <td>911835279</td>\n",
              "      <td>Licenciatura</td>\n",
              "      <td>UNICAMP</td>\n",
              "      <td>Outros</td>\n",
              "      <td>Estado</td>\n",
              "      <td>1</td>\n",
              "      <td>1</td>\n",
              "      <td>1</td>\n",
              "      <td>9</td>\n",
              "      <td>Google</td>\n",
              "      <td>145</td>\n",
              "      <td>61</td>\n",
              "      <td>54</td>\n",
              "      <td>1</td>\n",
              "    </tr>\n",
              "    <tr>\n",
              "      <th>4</th>\n",
              "      <td>755852400</td>\n",
              "      <td>Especialização</td>\n",
              "      <td>FACULDADE ANHANGUERA</td>\n",
              "      <td>Engenheiro</td>\n",
              "      <td>Entretenimento</td>\n",
              "      <td>0</td>\n",
              "      <td>0</td>\n",
              "      <td>1</td>\n",
              "      <td>8</td>\n",
              "      <td>Minha empresa - benefício LITpass</td>\n",
              "      <td>33</td>\n",
              "      <td>33</td>\n",
              "      <td>29</td>\n",
              "      <td>0</td>\n",
              "    </tr>\n",
              "    <tr>\n",
              "      <th>...</th>\n",
              "      <td>...</td>\n",
              "      <td>...</td>\n",
              "      <td>...</td>\n",
              "      <td>...</td>\n",
              "      <td>...</td>\n",
              "      <td>...</td>\n",
              "      <td>...</td>\n",
              "      <td>...</td>\n",
              "      <td>...</td>\n",
              "      <td>...</td>\n",
              "      <td>...</td>\n",
              "      <td>...</td>\n",
              "      <td>...</td>\n",
              "      <td>...</td>\n",
              "    </tr>\n",
              "    <tr>\n",
              "      <th>995</th>\n",
              "      <td>741745189</td>\n",
              "      <td>SEM FORMAÇÃO</td>\n",
              "      <td>UNIVERSIDADE NOVE DE JULHO</td>\n",
              "      <td>Coordenador</td>\n",
              "      <td>Borracha</td>\n",
              "      <td>0</td>\n",
              "      <td>0</td>\n",
              "      <td>1</td>\n",
              "      <td>2</td>\n",
              "      <td>YouTube</td>\n",
              "      <td>245</td>\n",
              "      <td>63</td>\n",
              "      <td>45</td>\n",
              "      <td>1</td>\n",
              "    </tr>\n",
              "    <tr>\n",
              "      <th>996</th>\n",
              "      <td>996387882</td>\n",
              "      <td>Bacharelado</td>\n",
              "      <td>UFRN</td>\n",
              "      <td>Assessor</td>\n",
              "      <td>Estado</td>\n",
              "      <td>1</td>\n",
              "      <td>1</td>\n",
              "      <td>1</td>\n",
              "      <td>8</td>\n",
              "      <td>Google</td>\n",
              "      <td>163</td>\n",
              "      <td>111</td>\n",
              "      <td>96</td>\n",
              "      <td>0</td>\n",
              "    </tr>\n",
              "    <tr>\n",
              "      <th>997</th>\n",
              "      <td>668869418</td>\n",
              "      <td>Bacharelado</td>\n",
              "      <td>UFSCar</td>\n",
              "      <td>Gerente</td>\n",
              "      <td>Siderurgica</td>\n",
              "      <td>1</td>\n",
              "      <td>1</td>\n",
              "      <td>1</td>\n",
              "      <td>9</td>\n",
              "      <td>Facebook</td>\n",
              "      <td>56</td>\n",
              "      <td>10</td>\n",
              "      <td>4</td>\n",
              "      <td>0</td>\n",
              "    </tr>\n",
              "    <tr>\n",
              "      <th>998</th>\n",
              "      <td>676531718</td>\n",
              "      <td>Tecnólogo</td>\n",
              "      <td>FATEC</td>\n",
              "      <td>Outros</td>\n",
              "      <td>servicos</td>\n",
              "      <td>1</td>\n",
              "      <td>1</td>\n",
              "      <td>1</td>\n",
              "      <td>9</td>\n",
              "      <td>Mídia (revista/jornal/web)</td>\n",
              "      <td>138</td>\n",
              "      <td>60</td>\n",
              "      <td>30</td>\n",
              "      <td>0</td>\n",
              "    </tr>\n",
              "    <tr>\n",
              "      <th>999</th>\n",
              "      <td>388402340</td>\n",
              "      <td>Especialização</td>\n",
              "      <td>UNIP</td>\n",
              "      <td>Advogado</td>\n",
              "      <td>Montadora</td>\n",
              "      <td>0</td>\n",
              "      <td>0</td>\n",
              "      <td>1</td>\n",
              "      <td>9</td>\n",
              "      <td>Mídia (revista/jornal/web)</td>\n",
              "      <td>22</td>\n",
              "      <td>20</td>\n",
              "      <td>19</td>\n",
              "      <td>0</td>\n",
              "    </tr>\n",
              "  </tbody>\n",
              "</table>\n",
              "<p>1000 rows × 14 columns</p>\n",
              "</div>"
            ],
            "text/plain": [
              "            id       graduacao  ... modulos_finalizados certificados\n",
              "0    648443203     Bacharelado  ...                   2            0\n",
              "1    423266690  Especialização  ...                  17            0\n",
              "2    315097368     Bacharelado  ...                   1            0\n",
              "3    911835279    Licenciatura  ...                  54            1\n",
              "4    755852400  Especialização  ...                  29            0\n",
              "..         ...             ...  ...                 ...          ...\n",
              "995  741745189    SEM FORMAÇÃO  ...                  45            1\n",
              "996  996387882     Bacharelado  ...                  96            0\n",
              "997  668869418     Bacharelado  ...                   4            0\n",
              "998  676531718       Tecnólogo  ...                  30            0\n",
              "999  388402340  Especialização  ...                  19            0\n",
              "\n",
              "[1000 rows x 14 columns]"
            ]
          },
          "metadata": {
            "tags": []
          },
          "execution_count": 51
        }
      ]
    },
    {
      "cell_type": "code",
      "metadata": {
        "id": "Ep8u2HDA5ikt"
      },
      "source": [
        "exported_pipeline = make_pipeline(\n",
        "    StandardScaler(),\n",
        "    DecisionTreeClassifier(criterion=\"gini\", max_depth=7, min_samples_leaf=6, min_samples_split=8))\n",
        "set_param_recursive(exported_pipeline.steps, 'random_state', 0)\n",
        "\n",
        "exported_pipeline.fit(Xtrain, ytrain)\n",
        "results = exported_pipeline.predict(Xtest)"
      ],
      "execution_count": null,
      "outputs": []
    },
    {
      "cell_type": "code",
      "metadata": {
        "id": "B3RKrKj4kr6H"
      },
      "source": [
        "X2 = test[[\"certificados\", \"modulos_finalizados\", \"modulos_iniciados\", \"total_modulos\"]]"
      ],
      "execution_count": null,
      "outputs": []
    },
    {
      "cell_type": "code",
      "metadata": {
        "id": "_Qp0cquplEn4"
      },
      "source": [
        "test_predict = exported_pipeline.predict(X2)"
      ],
      "execution_count": null,
      "outputs": []
    },
    {
      "cell_type": "code",
      "metadata": {
        "id": "wgjzC8SnlMOJ"
      },
      "source": [
        "test_results = pd.DataFrame({\"target\":test_predict})\n",
        "#test_results = pd.concat([test, test_results], axis=1)"
      ],
      "execution_count": null,
      "outputs": []
    },
    {
      "cell_type": "code",
      "metadata": {
        "id": "GYxKMUpcmNnr"
      },
      "source": [
        "test_results.to_csv(\"results\", index=False)"
      ],
      "execution_count": null,
      "outputs": []
    },
    {
      "cell_type": "markdown",
      "metadata": {
        "id": "iNYAvaDskT2I"
      },
      "source": [
        "# GC"
      ]
    },
    {
      "cell_type": "code",
      "metadata": {
        "id": "CJZvmMuq5M4s",
        "colab": {
          "base_uri": "https://localhost:8080/",
          "height": 34
        },
        "outputId": "a5d46e09-ab42-41f0-e94c-fafe2f5e3f53"
      },
      "source": [
        "import gc\n",
        "gc.collect()"
      ],
      "execution_count": null,
      "outputs": [
        {
          "output_type": "execute_result",
          "data": {
            "text/plain": [
              "4212"
            ]
          },
          "metadata": {
            "tags": []
          },
          "execution_count": 69
        }
      ]
    }
  ]
}