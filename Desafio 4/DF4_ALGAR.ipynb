{
  "nbformat": 4,
  "nbformat_minor": 0,
  "metadata": {
    "colab": {
      "name": "DF4-ALGAR",
      "provenance": [],
      "toc_visible": true,
      "authorship_tag": "ABX9TyPmbLzGUtzB1jEdkV2wELkC",
      "include_colab_link": true
    },
    "kernelspec": {
      "name": "python3",
      "display_name": "Python 3"
    }
  },
  "cells": [
    {
      "cell_type": "markdown",
      "metadata": {
        "id": "view-in-github",
        "colab_type": "text"
      },
      "source": [
        "<a href=\"https://colab.research.google.com/github/LucasDatilioCarderelli/Maratona_BehindTheCode_IBM20/blob/main/Desafio%204/DF4_ALGAR.ipynb\" target=\"_parent\"><img src=\"https://colab.research.google.com/assets/colab-badge.svg\" alt=\"Open In Colab\"/></a>"
      ]
    },
    {
      "cell_type": "markdown",
      "metadata": {
        "id": "7PPbVu1c2G8k"
      },
      "source": [
        "# DF4-TNT"
      ]
    },
    {
      "cell_type": "markdown",
      "metadata": {
        "id": "Kj0N5G9m2DUt"
      },
      "source": [
        "## IMPORTAÇÕES"
      ]
    },
    {
      "cell_type": "code",
      "metadata": {
        "id": "t-lYRjiPcHje",
        "colab": {
          "base_uri": "https://localhost:8080/",
          "height": 564
        },
        "outputId": "1b9aac16-f418-4b69-e372-b8da2418def4"
      },
      "source": [
        "!pip install tpot\n",
        "from tpot import TPOTClassifier"
      ],
      "execution_count": null,
      "outputs": [
        {
          "output_type": "stream",
          "text": [
            "Collecting tpot\n",
            "\u001b[?25l  Downloading https://files.pythonhosted.org/packages/14/5e/cb87b0257033a7a396e533a634079ee151a239d180efe2a8b1d2e3584d23/TPOT-0.11.5-py3-none-any.whl (82kB)\n",
            "\r\u001b[K     |████                            | 10kB 18.8MB/s eta 0:00:01\r\u001b[K     |████████                        | 20kB 1.7MB/s eta 0:00:01\r\u001b[K     |████████████                    | 30kB 2.3MB/s eta 0:00:01\r\u001b[K     |████████████████                | 40kB 2.5MB/s eta 0:00:01\r\u001b[K     |████████████████████            | 51kB 1.9MB/s eta 0:00:01\r\u001b[K     |████████████████████████        | 61kB 2.2MB/s eta 0:00:01\r\u001b[K     |████████████████████████████    | 71kB 2.4MB/s eta 0:00:01\r\u001b[K     |███████████████████████████████▉| 81kB 2.7MB/s eta 0:00:01\r\u001b[K     |████████████████████████████████| 92kB 2.4MB/s \n",
            "\u001b[?25hRequirement already satisfied: tqdm>=4.36.1 in /usr/local/lib/python3.6/dist-packages (from tpot) (4.41.1)\n",
            "Requirement already satisfied: joblib>=0.13.2 in /usr/local/lib/python3.6/dist-packages (from tpot) (0.16.0)\n",
            "Collecting deap>=1.2\n",
            "\u001b[?25l  Downloading https://files.pythonhosted.org/packages/0a/eb/2bd0a32e3ce757fb26264765abbaedd6d4d3640d90219a513aeabd08ee2b/deap-1.3.1-cp36-cp36m-manylinux2010_x86_64.whl (157kB)\n",
            "\u001b[K     |████████████████████████████████| 163kB 7.6MB/s \n",
            "\u001b[?25hCollecting update-checker>=0.16\n",
            "  Downloading https://files.pythonhosted.org/packages/0c/ba/8dd7fa5f0b1c6a8ac62f8f57f7e794160c1f86f31c6d0fb00f582372a3e4/update_checker-0.18.0-py3-none-any.whl\n",
            "Requirement already satisfied: numpy>=1.16.3 in /usr/local/lib/python3.6/dist-packages (from tpot) (1.18.5)\n",
            "Requirement already satisfied: scipy>=1.3.1 in /usr/local/lib/python3.6/dist-packages (from tpot) (1.4.1)\n",
            "Requirement already satisfied: scikit-learn>=0.22.0 in /usr/local/lib/python3.6/dist-packages (from tpot) (0.22.2.post1)\n",
            "Requirement already satisfied: pandas>=0.24.2 in /usr/local/lib/python3.6/dist-packages (from tpot) (1.0.5)\n",
            "Collecting stopit>=1.1.1\n",
            "  Downloading https://files.pythonhosted.org/packages/35/58/e8bb0b0fb05baf07bbac1450c447d753da65f9701f551dca79823ce15d50/stopit-1.1.2.tar.gz\n",
            "Requirement already satisfied: requests>=2.3.0 in /usr/local/lib/python3.6/dist-packages (from update-checker>=0.16->tpot) (2.23.0)\n",
            "Requirement already satisfied: pytz>=2017.2 in /usr/local/lib/python3.6/dist-packages (from pandas>=0.24.2->tpot) (2018.9)\n",
            "Requirement already satisfied: python-dateutil>=2.6.1 in /usr/local/lib/python3.6/dist-packages (from pandas>=0.24.2->tpot) (2.8.1)\n",
            "Requirement already satisfied: chardet<4,>=3.0.2 in /usr/local/lib/python3.6/dist-packages (from requests>=2.3.0->update-checker>=0.16->tpot) (3.0.4)\n",
            "Requirement already satisfied: idna<3,>=2.5 in /usr/local/lib/python3.6/dist-packages (from requests>=2.3.0->update-checker>=0.16->tpot) (2.10)\n",
            "Requirement already satisfied: urllib3!=1.25.0,!=1.25.1,<1.26,>=1.21.1 in /usr/local/lib/python3.6/dist-packages (from requests>=2.3.0->update-checker>=0.16->tpot) (1.24.3)\n",
            "Requirement already satisfied: certifi>=2017.4.17 in /usr/local/lib/python3.6/dist-packages (from requests>=2.3.0->update-checker>=0.16->tpot) (2020.6.20)\n",
            "Requirement already satisfied: six>=1.5 in /usr/local/lib/python3.6/dist-packages (from python-dateutil>=2.6.1->pandas>=0.24.2->tpot) (1.15.0)\n",
            "Building wheels for collected packages: stopit\n",
            "  Building wheel for stopit (setup.py) ... \u001b[?25l\u001b[?25hdone\n",
            "  Created wheel for stopit: filename=stopit-1.1.2-cp36-none-any.whl size=11956 sha256=a46ce8f12ddc98ba507d66d46b8c1212c8f67a2e84b622c28eb036c48ed99f95\n",
            "  Stored in directory: /root/.cache/pip/wheels/3c/85/2b/2580190404636bfc63e8de3dff629c03bb795021e1983a6cc7\n",
            "Successfully built stopit\n",
            "Installing collected packages: deap, update-checker, stopit, tpot\n",
            "Successfully installed deap-1.3.1 stopit-1.1.2 tpot-0.11.5 update-checker-0.18.0\n"
          ],
          "name": "stdout"
        }
      ]
    },
    {
      "cell_type": "code",
      "metadata": {
        "id": "RsPF3DFl7pKB",
        "colab": {
          "base_uri": "https://localhost:8080/",
          "height": 566
        },
        "outputId": "16c3b053-8ed5-4841-f146-f2e9b5463581"
      },
      "source": [
        "!pip install sweetviz\n",
        "import sweetviz"
      ],
      "execution_count": null,
      "outputs": [
        {
          "output_type": "stream",
          "text": [
            "Collecting sweetviz\n",
            "\u001b[?25l  Downloading https://files.pythonhosted.org/packages/87/8a/a4025101bfc8141e3d9f2fd68b3861183dd165ee632af6bf4d9308c89229/sweetviz-1.0b6-py3-none-any.whl (325kB)\n",
            "\u001b[K     |████████████████████████████████| 327kB 2.6MB/s \n",
            "\u001b[?25hRequirement already satisfied: jinja2>=2.11.1 in /usr/local/lib/python3.6/dist-packages (from sweetviz) (2.11.2)\n",
            "Requirement already satisfied: pandas!=1.0.0,!=1.0.1,!=1.0.2,>=0.25.3 in /usr/local/lib/python3.6/dist-packages (from sweetviz) (1.0.5)\n",
            "Requirement already satisfied: matplotlib>=3.1.3 in /usr/local/lib/python3.6/dist-packages (from sweetviz) (3.2.2)\n",
            "Requirement already satisfied: numpy>=1.16.0 in /usr/local/lib/python3.6/dist-packages (from sweetviz) (1.18.5)\n",
            "Collecting tqdm>=4.43.0\n",
            "\u001b[?25l  Downloading https://files.pythonhosted.org/packages/73/d5/f220e0c69b2f346b5649b66abebb391df1a00a59997a7ccf823325bd7a3e/tqdm-4.49.0-py2.py3-none-any.whl (69kB)\n",
            "\u001b[K     |████████████████████████████████| 71kB 5.2MB/s \n",
            "\u001b[?25hRequirement already satisfied: scipy>=1.3.2 in /usr/local/lib/python3.6/dist-packages (from sweetviz) (1.4.1)\n",
            "Collecting importlib-resources>=1.2.0\n",
            "  Downloading https://files.pythonhosted.org/packages/ba/03/0f9595c0c2ef12590877f3c47e5f579759ce5caf817f8256d5dcbd8a1177/importlib_resources-3.0.0-py2.py3-none-any.whl\n",
            "Requirement already satisfied: MarkupSafe>=0.23 in /usr/local/lib/python3.6/dist-packages (from jinja2>=2.11.1->sweetviz) (1.1.1)\n",
            "Requirement already satisfied: python-dateutil>=2.6.1 in /usr/local/lib/python3.6/dist-packages (from pandas!=1.0.0,!=1.0.1,!=1.0.2,>=0.25.3->sweetviz) (2.8.1)\n",
            "Requirement already satisfied: pytz>=2017.2 in /usr/local/lib/python3.6/dist-packages (from pandas!=1.0.0,!=1.0.1,!=1.0.2,>=0.25.3->sweetviz) (2018.9)\n",
            "Requirement already satisfied: pyparsing!=2.0.4,!=2.1.2,!=2.1.6,>=2.0.1 in /usr/local/lib/python3.6/dist-packages (from matplotlib>=3.1.3->sweetviz) (2.4.7)\n",
            "Requirement already satisfied: kiwisolver>=1.0.1 in /usr/local/lib/python3.6/dist-packages (from matplotlib>=3.1.3->sweetviz) (1.2.0)\n",
            "Requirement already satisfied: cycler>=0.10 in /usr/local/lib/python3.6/dist-packages (from matplotlib>=3.1.3->sweetviz) (0.10.0)\n",
            "Requirement already satisfied: zipp>=0.4; python_version < \"3.8\" in /usr/local/lib/python3.6/dist-packages (from importlib-resources>=1.2.0->sweetviz) (3.1.0)\n",
            "Requirement already satisfied: six>=1.5 in /usr/local/lib/python3.6/dist-packages (from python-dateutil>=2.6.1->pandas!=1.0.0,!=1.0.1,!=1.0.2,>=0.25.3->sweetviz) (1.15.0)\n",
            "Installing collected packages: tqdm, importlib-resources, sweetviz\n",
            "  Found existing installation: tqdm 4.41.1\n",
            "    Uninstalling tqdm-4.41.1:\n",
            "      Successfully uninstalled tqdm-4.41.1\n",
            "Successfully installed importlib-resources-3.0.0 sweetviz-1.0b6 tqdm-4.49.0\n"
          ],
          "name": "stdout"
        },
        {
          "output_type": "display_data",
          "data": {
            "application/vnd.colab-display-data+json": {
              "pip_warning": {
                "packages": [
                  "tqdm"
                ]
              }
            }
          },
          "metadata": {
            "tags": []
          }
        }
      ]
    },
    {
      "cell_type": "code",
      "metadata": {
        "id": "8jZG0bwraxx-"
      },
      "source": [
        "import pandas as pd\n",
        "\n",
        "import matplotlib.pyplot as plt\n",
        "import seaborn as sns\n",
        "sns.set()\n",
        "\n",
        "from sklearn.preprocessing import LabelEncoder\n",
        "\n",
        "from sklearn.model_selection import train_test_split\n",
        "\n",
        "from imblearn.over_sampling import SMOTE\n",
        "from imblearn.under_sampling import RandomUnderSampler\n",
        "\n",
        "from sklearn.ensemble import ExtraTreesClassifier\n",
        "from sklearn import tree\n",
        "\n",
        "from sklearn.metrics import classification_report, accuracy_score, f1_score"
      ],
      "execution_count": null,
      "outputs": []
    },
    {
      "cell_type": "code",
      "metadata": {
        "id": "BOGT747pZGuJ",
        "colab": {
          "base_uri": "https://localhost:8080/",
          "height": 315
        },
        "outputId": "9892eda5-4c1c-4795-8a59-77c1e90c19c8"
      },
      "source": [
        "df = pd.read_csv(\"https://raw.githubusercontent.com/maratonadev-br/desafio-4-2020/master/data/train_dataset_algartech.csv\")\n",
        "df.head(3)"
      ],
      "execution_count": null,
      "outputs": [
        {
          "output_type": "execute_result",
          "data": {
            "text/html": [
              "<div>\n",
              "<style scoped>\n",
              "    .dataframe tbody tr th:only-of-type {\n",
              "        vertical-align: middle;\n",
              "    }\n",
              "\n",
              "    .dataframe tbody tr th {\n",
              "        vertical-align: top;\n",
              "    }\n",
              "\n",
              "    .dataframe thead th {\n",
              "        text-align: right;\n",
              "    }\n",
              "</style>\n",
              "<table border=\"1\" class=\"dataframe\">\n",
              "  <thead>\n",
              "    <tr style=\"text-align: right;\">\n",
              "      <th></th>\n",
              "      <th>Idade</th>\n",
              "      <th>Local de trabalho</th>\n",
              "      <th>Pontuação teste</th>\n",
              "      <th>Departmento</th>\n",
              "      <th>Distancia casa-trabalho</th>\n",
              "      <th>Educacao</th>\n",
              "      <th>Area</th>\n",
              "      <th>Possui carro</th>\n",
              "      <th>Subordinado</th>\n",
              "      <th>Satisfação com o ambiente no emprego atual</th>\n",
              "      <th>Genero</th>\n",
              "      <th>Horas voluntariado</th>\n",
              "      <th>Envolvimento com trabalho</th>\n",
              "      <th>Posicao</th>\n",
              "      <th>Cargo</th>\n",
              "      <th>Satisfação com emprego</th>\n",
              "      <th>Estado civil</th>\n",
              "      <th>Renda</th>\n",
              "      <th>Bonus de performance</th>\n",
              "      <th>Quantidade de empresas que trabalho</th>\n",
              "      <th>Maior de idade</th>\n",
              "      <th>Necessita de hora extra</th>\n",
              "      <th>Aumento de salario%</th>\n",
              "      <th>Performance na entrevista</th>\n",
              "      <th>Satisfação com a relação</th>\n",
              "      <th>Horas de trabalho padrão</th>\n",
              "      <th>Beneficios</th>\n",
              "      <th>Anos de experiencia</th>\n",
              "      <th>Horas de treinamento ultimo ano</th>\n",
              "      <th>Estilo de vida</th>\n",
              "      <th>Anos na última empresa</th>\n",
              "      <th>Anos na posição atual</th>\n",
              "      <th>Anos desde última promoção</th>\n",
              "      <th>Anos com a mesma gerência</th>\n",
              "      <th>Contratar</th>\n",
              "    </tr>\n",
              "  </thead>\n",
              "  <tbody>\n",
              "    <tr>\n",
              "      <th>0</th>\n",
              "      <td>49</td>\n",
              "      <td>Cliente</td>\n",
              "      <td>279</td>\n",
              "      <td>Engenharia</td>\n",
              "      <td>8</td>\n",
              "      <td>Médio completo</td>\n",
              "      <td>Ciências das natureza</td>\n",
              "      <td>1</td>\n",
              "      <td>2</td>\n",
              "      <td>3</td>\n",
              "      <td>M</td>\n",
              "      <td>61</td>\n",
              "      <td>2</td>\n",
              "      <td>2</td>\n",
              "      <td>Engenheiro</td>\n",
              "      <td>2</td>\n",
              "      <td>Casado</td>\n",
              "      <td>5130</td>\n",
              "      <td>24907</td>\n",
              "      <td>1</td>\n",
              "      <td>1</td>\n",
              "      <td>Não</td>\n",
              "      <td>23</td>\n",
              "      <td>4</td>\n",
              "      <td>4</td>\n",
              "      <td>80</td>\n",
              "      <td>1</td>\n",
              "      <td>10</td>\n",
              "      <td>3</td>\n",
              "      <td>3</td>\n",
              "      <td>10</td>\n",
              "      <td>7</td>\n",
              "      <td>1</td>\n",
              "      <td>7</td>\n",
              "      <td>Não</td>\n",
              "    </tr>\n",
              "    <tr>\n",
              "      <th>1</th>\n",
              "      <td>33</td>\n",
              "      <td>Misto</td>\n",
              "      <td>1392</td>\n",
              "      <td>Engenharia</td>\n",
              "      <td>3</td>\n",
              "      <td>Superior incompleto - cursando</td>\n",
              "      <td>Ciências das natureza</td>\n",
              "      <td>1</td>\n",
              "      <td>5</td>\n",
              "      <td>4</td>\n",
              "      <td>F</td>\n",
              "      <td>56</td>\n",
              "      <td>3</td>\n",
              "      <td>1</td>\n",
              "      <td>Engenheiro</td>\n",
              "      <td>3</td>\n",
              "      <td>Casado</td>\n",
              "      <td>2909</td>\n",
              "      <td>23159</td>\n",
              "      <td>1</td>\n",
              "      <td>1</td>\n",
              "      <td>Sim</td>\n",
              "      <td>11</td>\n",
              "      <td>3</td>\n",
              "      <td>3</td>\n",
              "      <td>80</td>\n",
              "      <td>0</td>\n",
              "      <td>8</td>\n",
              "      <td>3</td>\n",
              "      <td>3</td>\n",
              "      <td>8</td>\n",
              "      <td>7</td>\n",
              "      <td>3</td>\n",
              "      <td>0</td>\n",
              "      <td>Não</td>\n",
              "    </tr>\n",
              "    <tr>\n",
              "      <th>2</th>\n",
              "      <td>27</td>\n",
              "      <td>Cliente</td>\n",
              "      <td>591</td>\n",
              "      <td>Engenharia</td>\n",
              "      <td>2</td>\n",
              "      <td>Médio completo</td>\n",
              "      <td>Medicina</td>\n",
              "      <td>1</td>\n",
              "      <td>7</td>\n",
              "      <td>1</td>\n",
              "      <td>M</td>\n",
              "      <td>40</td>\n",
              "      <td>3</td>\n",
              "      <td>1</td>\n",
              "      <td>Tecnico</td>\n",
              "      <td>2</td>\n",
              "      <td>Casado</td>\n",
              "      <td>3468</td>\n",
              "      <td>16632</td>\n",
              "      <td>9</td>\n",
              "      <td>1</td>\n",
              "      <td>Não</td>\n",
              "      <td>12</td>\n",
              "      <td>3</td>\n",
              "      <td>4</td>\n",
              "      <td>80</td>\n",
              "      <td>1</td>\n",
              "      <td>6</td>\n",
              "      <td>3</td>\n",
              "      <td>3</td>\n",
              "      <td>2</td>\n",
              "      <td>2</td>\n",
              "      <td>2</td>\n",
              "      <td>2</td>\n",
              "      <td>Não</td>\n",
              "    </tr>\n",
              "  </tbody>\n",
              "</table>\n",
              "</div>"
            ],
            "text/plain": [
              "   Idade Local de trabalho  ...  Anos com a mesma gerência Contratar\n",
              "0     49           Cliente  ...                          7       Não\n",
              "1     33             Misto  ...                          0       Não\n",
              "2     27           Cliente  ...                          2       Não\n",
              "\n",
              "[3 rows x 35 columns]"
            ]
          },
          "metadata": {
            "tags": []
          },
          "execution_count": 8
        }
      ]
    },
    {
      "cell_type": "code",
      "metadata": {
        "id": "LzyT0n48nhFh",
        "colab": {
          "base_uri": "https://localhost:8080/",
          "height": 281
        },
        "outputId": "50f2fb61-111a-4d2b-ed56-f900059336f0"
      },
      "source": [
        "toScore = pd.read_csv(\"/content/toScore.csv\")\n",
        "toScore.head(3)"
      ],
      "execution_count": null,
      "outputs": [
        {
          "output_type": "execute_result",
          "data": {
            "text/html": [
              "<div>\n",
              "<style scoped>\n",
              "    .dataframe tbody tr th:only-of-type {\n",
              "        vertical-align: middle;\n",
              "    }\n",
              "\n",
              "    .dataframe tbody tr th {\n",
              "        vertical-align: top;\n",
              "    }\n",
              "\n",
              "    .dataframe thead th {\n",
              "        text-align: right;\n",
              "    }\n",
              "</style>\n",
              "<table border=\"1\" class=\"dataframe\">\n",
              "  <thead>\n",
              "    <tr style=\"text-align: right;\">\n",
              "      <th></th>\n",
              "      <th>Idade</th>\n",
              "      <th>Local de trabalho</th>\n",
              "      <th>Pontuação teste</th>\n",
              "      <th>Departmento</th>\n",
              "      <th>Distancia casa-trabalho</th>\n",
              "      <th>Educacao</th>\n",
              "      <th>Area</th>\n",
              "      <th>Possui carro</th>\n",
              "      <th>Subordinado</th>\n",
              "      <th>Satisfação com o ambiente no emprego atual</th>\n",
              "      <th>Genero</th>\n",
              "      <th>Horas voluntariado</th>\n",
              "      <th>Envolvimento com trabalho</th>\n",
              "      <th>Posicao</th>\n",
              "      <th>Cargo</th>\n",
              "      <th>Satisfação com emprego</th>\n",
              "      <th>Estado civil</th>\n",
              "      <th>Renda</th>\n",
              "      <th>Bonus de performance</th>\n",
              "      <th>Quantidade de empresas que trabalho</th>\n",
              "      <th>Maior de idade</th>\n",
              "      <th>Necessita de hora extra</th>\n",
              "      <th>Aumento de salario%</th>\n",
              "      <th>Performance na entrevista</th>\n",
              "      <th>Satisfação com a relação</th>\n",
              "      <th>Horas de trabalho padrão</th>\n",
              "      <th>Beneficios</th>\n",
              "      <th>Anos de experiencia</th>\n",
              "      <th>Horas de treinamento ultimo ano</th>\n",
              "      <th>Estilo de vida</th>\n",
              "      <th>Anos na última empresa</th>\n",
              "      <th>Anos na posição atual</th>\n",
              "      <th>Anos desde última promoção</th>\n",
              "      <th>Anos com a mesma gerência</th>\n",
              "    </tr>\n",
              "  </thead>\n",
              "  <tbody>\n",
              "    <tr>\n",
              "      <th>0</th>\n",
              "      <td>40</td>\n",
              "      <td>Misto</td>\n",
              "      <td>444</td>\n",
              "      <td>Vendas</td>\n",
              "      <td>2</td>\n",
              "      <td>Superior incompleto</td>\n",
              "      <td>Marketing</td>\n",
              "      <td>1</td>\n",
              "      <td>1986</td>\n",
              "      <td>2</td>\n",
              "      <td>F</td>\n",
              "      <td>92</td>\n",
              "      <td>3</td>\n",
              "      <td>2</td>\n",
              "      <td>Vendedo senior</td>\n",
              "      <td>2</td>\n",
              "      <td>Casado</td>\n",
              "      <td>5677</td>\n",
              "      <td>4258</td>\n",
              "      <td>3</td>\n",
              "      <td>1</td>\n",
              "      <td>Não</td>\n",
              "      <td>14</td>\n",
              "      <td>3</td>\n",
              "      <td>3</td>\n",
              "      <td>80</td>\n",
              "      <td>1</td>\n",
              "      <td>15</td>\n",
              "      <td>4</td>\n",
              "      <td>3</td>\n",
              "      <td>11</td>\n",
              "      <td>8</td>\n",
              "      <td>5</td>\n",
              "      <td>10</td>\n",
              "    </tr>\n",
              "    <tr>\n",
              "      <th>1</th>\n",
              "      <td>25</td>\n",
              "      <td>Misto</td>\n",
              "      <td>309</td>\n",
              "      <td>RH</td>\n",
              "      <td>2</td>\n",
              "      <td>Superior completo</td>\n",
              "      <td>Ciências humanas</td>\n",
              "      <td>1</td>\n",
              "      <td>1987</td>\n",
              "      <td>3</td>\n",
              "      <td>F</td>\n",
              "      <td>82</td>\n",
              "      <td>3</td>\n",
              "      <td>1</td>\n",
              "      <td>Assistente</td>\n",
              "      <td>2</td>\n",
              "      <td>Casado</td>\n",
              "      <td>2187</td>\n",
              "      <td>19655</td>\n",
              "      <td>4</td>\n",
              "      <td>1</td>\n",
              "      <td>Não</td>\n",
              "      <td>14</td>\n",
              "      <td>3</td>\n",
              "      <td>3</td>\n",
              "      <td>80</td>\n",
              "      <td>0</td>\n",
              "      <td>6</td>\n",
              "      <td>3</td>\n",
              "      <td>3</td>\n",
              "      <td>2</td>\n",
              "      <td>0</td>\n",
              "      <td>1</td>\n",
              "      <td>2</td>\n",
              "    </tr>\n",
              "    <tr>\n",
              "      <th>2</th>\n",
              "      <td>30</td>\n",
              "      <td>Misto</td>\n",
              "      <td>911</td>\n",
              "      <td>Engenharia</td>\n",
              "      <td>1</td>\n",
              "      <td>Superior incompleto</td>\n",
              "      <td>Medicina</td>\n",
              "      <td>1</td>\n",
              "      <td>1989</td>\n",
              "      <td>4</td>\n",
              "      <td>M</td>\n",
              "      <td>76</td>\n",
              "      <td>3</td>\n",
              "      <td>1</td>\n",
              "      <td>Tecnico</td>\n",
              "      <td>2</td>\n",
              "      <td>Casado</td>\n",
              "      <td>3748</td>\n",
              "      <td>4077</td>\n",
              "      <td>1</td>\n",
              "      <td>1</td>\n",
              "      <td>Não</td>\n",
              "      <td>13</td>\n",
              "      <td>3</td>\n",
              "      <td>3</td>\n",
              "      <td>80</td>\n",
              "      <td>0</td>\n",
              "      <td>12</td>\n",
              "      <td>6</td>\n",
              "      <td>2</td>\n",
              "      <td>12</td>\n",
              "      <td>8</td>\n",
              "      <td>1</td>\n",
              "      <td>7</td>\n",
              "    </tr>\n",
              "  </tbody>\n",
              "</table>\n",
              "</div>"
            ],
            "text/plain": [
              "   Idade  ... Anos com a mesma gerência\n",
              "0     40  ...                        10\n",
              "1     25  ...                         2\n",
              "2     30  ...                         7\n",
              "\n",
              "[3 rows x 34 columns]"
            ]
          },
          "metadata": {
            "tags": []
          },
          "execution_count": 11
        }
      ]
    },
    {
      "cell_type": "markdown",
      "metadata": {
        "id": "wW4xY5FR2crE"
      },
      "source": [
        "## Analises"
      ]
    },
    {
      "cell_type": "code",
      "metadata": {
        "id": "ymmZ21Za8I2P",
        "colab": {
          "base_uri": "https://localhost:8080/",
          "height": 105
        },
        "outputId": "0d393a72-15cd-4fa7-fa67-e51779665e80"
      },
      "source": [
        "my_report = sweetviz.analyze(df)\n",
        "my_report.show_html()"
      ],
      "execution_count": null,
      "outputs": [
        {
          "output_type": "stream",
          "text": [
            ":FEATURES DONE:                    |█████████████████████| [100%]   00:12  -> (00:00 left)\n",
            ":PAIRWISE DONE:                    |█████████████████████| [100%]   00:00  -> (00:00 left)\n"
          ],
          "name": "stderr"
        },
        {
          "output_type": "stream",
          "text": [
            "Creating Associations graph... DONE!\n",
            "Report SWEETVIZ_REPORT.html was generated! NOTEBOOK/COLAB USERS: no browser will pop up, the report is saved in your notebook/colab files.\n"
          ],
          "name": "stdout"
        }
      ]
    },
    {
      "cell_type": "code",
      "metadata": {
        "id": "UfH-ChLOiMsV"
      },
      "source": [
        "colsToDrop = [\"Possui carro\", \"Maior de idade\", \"Horas de trabalho padrão\"]\n",
        "for col in colsToDrop:\n",
        "  try:\n",
        "    df.drop(col, axis=1, inplace=True)\n",
        "    toScore.drop(col, axis=1, inplace=True)\n",
        "  except: print(f\"{col:<25} Already Droped\")"
      ],
      "execution_count": null,
      "outputs": []
    },
    {
      "cell_type": "code",
      "metadata": {
        "id": "2vPRmcFci1wH",
        "colab": {
          "base_uri": "https://localhost:8080/",
          "height": 34
        },
        "outputId": "1f61d4f7-a6f5-4d6a-edcc-53c8b847556e"
      },
      "source": [
        "df.loc[(df.Contratar == \"Sim\") & (df.Genero == \"M\")].shape[0]"
      ],
      "execution_count": null,
      "outputs": [
        {
          "output_type": "execute_result",
          "data": {
            "text/plain": [
              "119"
            ]
          },
          "metadata": {
            "tags": []
          },
          "execution_count": 152
        }
      ]
    },
    {
      "cell_type": "code",
      "metadata": {
        "id": "kJtI8dfsgn2E",
        "colab": {
          "base_uri": "https://localhost:8080/",
          "height": 663
        },
        "outputId": "803beae0-66d8-4e37-d5af-acdfb7c7b5f2"
      },
      "source": [
        "toScore.info()"
      ],
      "execution_count": null,
      "outputs": [
        {
          "output_type": "stream",
          "text": [
            "<class 'pandas.core.frame.DataFrame'>\n",
            "RangeIndex: 100 entries, 0 to 99\n",
            "Data columns (total 31 columns):\n",
            " #   Column                                      Non-Null Count  Dtype \n",
            "---  ------                                      --------------  ----- \n",
            " 0   Idade                                       100 non-null    int64 \n",
            " 1   Local de trabalho                           99 non-null     object\n",
            " 2   Pontuação teste                             100 non-null    int64 \n",
            " 3   Departmento                                 100 non-null    object\n",
            " 4   Distancia casa-trabalho                     100 non-null    int64 \n",
            " 5   Educacao                                    100 non-null    object\n",
            " 6   Area                                        100 non-null    object\n",
            " 7   Subordinado                                 100 non-null    int64 \n",
            " 8   Satisfação com o ambiente no emprego atual  100 non-null    int64 \n",
            " 9   Genero                                      100 non-null    object\n",
            " 10  Horas voluntariado                          100 non-null    int64 \n",
            " 11  Envolvimento com trabalho                   100 non-null    int64 \n",
            " 12  Posicao                                     100 non-null    int64 \n",
            " 13  Cargo                                       100 non-null    object\n",
            " 14  Satisfação com emprego                      100 non-null    int64 \n",
            " 15  Estado civil                                100 non-null    object\n",
            " 16  Renda                                       100 non-null    int64 \n",
            " 17  Bonus de performance                        100 non-null    int64 \n",
            " 18  Quantidade de empresas que trabalho         100 non-null    int64 \n",
            " 19  Necessita de hora extra                     100 non-null    object\n",
            " 20  Aumento de salario%                         100 non-null    int64 \n",
            " 21  Performance na entrevista                   100 non-null    int64 \n",
            " 22  Satisfação com a relação                    100 non-null    int64 \n",
            " 23  Beneficios                                  100 non-null    int64 \n",
            " 24  Anos de experiencia                         100 non-null    int64 \n",
            " 25  Horas de treinamento ultimo ano             100 non-null    int64 \n",
            " 26  Estilo de vida                              100 non-null    int64 \n",
            " 27  Anos na última empresa                      100 non-null    int64 \n",
            " 28  Anos na posição atual                       100 non-null    int64 \n",
            " 29  Anos desde última promoção                  100 non-null    int64 \n",
            " 30  Anos com a mesma gerência                   100 non-null    int64 \n",
            "dtypes: int64(23), object(8)\n",
            "memory usage: 24.3+ KB\n"
          ],
          "name": "stdout"
        }
      ]
    },
    {
      "cell_type": "code",
      "metadata": {
        "id": "Ty65VYI_ibPd",
        "colab": {
          "base_uri": "https://localhost:8080/",
          "height": 230
        },
        "outputId": "1950db11-65d8-42f2-cc55-ed17dd160b16"
      },
      "source": [
        "df2 = df.copy()\n",
        "toScore2 = toScore.copy()\n",
        "\n",
        "cat_cols = df2.select_dtypes(include=object).columns\n",
        "\n",
        "toScore2[\"Local de trabalho\"].fillna(toScore2[\"Local de trabalho\"].mode()[0], inplace=True)\n",
        "\n",
        "df2[cat_cols] = df2[cat_cols].apply(lambda col: LabelEncoder().fit_transform(col))\n",
        "toScore2[cat_cols[:-1]] = toScore2[cat_cols[:-1]].apply(lambda col: LabelEncoder().fit_transform(col))\n",
        "\n",
        "df2.head(3)"
      ],
      "execution_count": null,
      "outputs": [
        {
          "output_type": "execute_result",
          "data": {
            "text/html": [
              "<div>\n",
              "<style scoped>\n",
              "    .dataframe tbody tr th:only-of-type {\n",
              "        vertical-align: middle;\n",
              "    }\n",
              "\n",
              "    .dataframe tbody tr th {\n",
              "        vertical-align: top;\n",
              "    }\n",
              "\n",
              "    .dataframe thead th {\n",
              "        text-align: right;\n",
              "    }\n",
              "</style>\n",
              "<table border=\"1\" class=\"dataframe\">\n",
              "  <thead>\n",
              "    <tr style=\"text-align: right;\">\n",
              "      <th></th>\n",
              "      <th>Idade</th>\n",
              "      <th>Local de trabalho</th>\n",
              "      <th>Pontuação teste</th>\n",
              "      <th>Departmento</th>\n",
              "      <th>Distancia casa-trabalho</th>\n",
              "      <th>Educacao</th>\n",
              "      <th>Area</th>\n",
              "      <th>Subordinado</th>\n",
              "      <th>Satisfação com o ambiente no emprego atual</th>\n",
              "      <th>Genero</th>\n",
              "      <th>Horas voluntariado</th>\n",
              "      <th>Envolvimento com trabalho</th>\n",
              "      <th>Posicao</th>\n",
              "      <th>Cargo</th>\n",
              "      <th>Satisfação com emprego</th>\n",
              "      <th>Estado civil</th>\n",
              "      <th>Renda</th>\n",
              "      <th>Bonus de performance</th>\n",
              "      <th>Quantidade de empresas que trabalho</th>\n",
              "      <th>Necessita de hora extra</th>\n",
              "      <th>Aumento de salario%</th>\n",
              "      <th>Performance na entrevista</th>\n",
              "      <th>Satisfação com a relação</th>\n",
              "      <th>Beneficios</th>\n",
              "      <th>Anos de experiencia</th>\n",
              "      <th>Horas de treinamento ultimo ano</th>\n",
              "      <th>Estilo de vida</th>\n",
              "      <th>Anos na última empresa</th>\n",
              "      <th>Anos na posição atual</th>\n",
              "      <th>Anos desde última promoção</th>\n",
              "      <th>Anos com a mesma gerência</th>\n",
              "      <th>Contratar</th>\n",
              "    </tr>\n",
              "  </thead>\n",
              "  <tbody>\n",
              "    <tr>\n",
              "      <th>0</th>\n",
              "      <td>49</td>\n",
              "      <td>0</td>\n",
              "      <td>279</td>\n",
              "      <td>0</td>\n",
              "      <td>8</td>\n",
              "      <td>0</td>\n",
              "      <td>0</td>\n",
              "      <td>2</td>\n",
              "      <td>3</td>\n",
              "      <td>1</td>\n",
              "      <td>61</td>\n",
              "      <td>2</td>\n",
              "      <td>2</td>\n",
              "      <td>3</td>\n",
              "      <td>2</td>\n",
              "      <td>0</td>\n",
              "      <td>5130</td>\n",
              "      <td>24907</td>\n",
              "      <td>1</td>\n",
              "      <td>0</td>\n",
              "      <td>23</td>\n",
              "      <td>4</td>\n",
              "      <td>4</td>\n",
              "      <td>1</td>\n",
              "      <td>10</td>\n",
              "      <td>3</td>\n",
              "      <td>3</td>\n",
              "      <td>10</td>\n",
              "      <td>7</td>\n",
              "      <td>1</td>\n",
              "      <td>7</td>\n",
              "      <td>0</td>\n",
              "    </tr>\n",
              "    <tr>\n",
              "      <th>1</th>\n",
              "      <td>33</td>\n",
              "      <td>2</td>\n",
              "      <td>1392</td>\n",
              "      <td>0</td>\n",
              "      <td>3</td>\n",
              "      <td>4</td>\n",
              "      <td>0</td>\n",
              "      <td>5</td>\n",
              "      <td>4</td>\n",
              "      <td>0</td>\n",
              "      <td>56</td>\n",
              "      <td>3</td>\n",
              "      <td>1</td>\n",
              "      <td>3</td>\n",
              "      <td>3</td>\n",
              "      <td>0</td>\n",
              "      <td>2909</td>\n",
              "      <td>23159</td>\n",
              "      <td>1</td>\n",
              "      <td>1</td>\n",
              "      <td>11</td>\n",
              "      <td>3</td>\n",
              "      <td>3</td>\n",
              "      <td>0</td>\n",
              "      <td>8</td>\n",
              "      <td>3</td>\n",
              "      <td>3</td>\n",
              "      <td>8</td>\n",
              "      <td>7</td>\n",
              "      <td>3</td>\n",
              "      <td>0</td>\n",
              "      <td>0</td>\n",
              "    </tr>\n",
              "    <tr>\n",
              "      <th>2</th>\n",
              "      <td>27</td>\n",
              "      <td>0</td>\n",
              "      <td>591</td>\n",
              "      <td>0</td>\n",
              "      <td>2</td>\n",
              "      <td>0</td>\n",
              "      <td>4</td>\n",
              "      <td>7</td>\n",
              "      <td>1</td>\n",
              "      <td>1</td>\n",
              "      <td>40</td>\n",
              "      <td>3</td>\n",
              "      <td>1</td>\n",
              "      <td>6</td>\n",
              "      <td>2</td>\n",
              "      <td>0</td>\n",
              "      <td>3468</td>\n",
              "      <td>16632</td>\n",
              "      <td>9</td>\n",
              "      <td>0</td>\n",
              "      <td>12</td>\n",
              "      <td>3</td>\n",
              "      <td>4</td>\n",
              "      <td>1</td>\n",
              "      <td>6</td>\n",
              "      <td>3</td>\n",
              "      <td>3</td>\n",
              "      <td>2</td>\n",
              "      <td>2</td>\n",
              "      <td>2</td>\n",
              "      <td>2</td>\n",
              "      <td>0</td>\n",
              "    </tr>\n",
              "  </tbody>\n",
              "</table>\n",
              "</div>"
            ],
            "text/plain": [
              "   Idade  Local de trabalho  ...  Anos com a mesma gerência  Contratar\n",
              "0     49                  0  ...                          7          0\n",
              "1     33                  2  ...                          0          0\n",
              "2     27                  0  ...                          2          0\n",
              "\n",
              "[3 rows x 32 columns]"
            ]
          },
          "metadata": {
            "tags": []
          },
          "execution_count": 13
        }
      ]
    },
    {
      "cell_type": "markdown",
      "metadata": {
        "id": "ucIdYE4i4ofD"
      },
      "source": [
        "## Treinamento"
      ]
    },
    {
      "cell_type": "code",
      "metadata": {
        "id": "2OtzQBDudJr8"
      },
      "source": [
        "X = df2.drop(\"Contratar\", axis=1)\n",
        "#X = X[maskcols]\n",
        "y = df2[\"Contratar\"]"
      ],
      "execution_count": null,
      "outputs": []
    },
    {
      "cell_type": "code",
      "metadata": {
        "id": "_2_-5yePDluL",
        "colab": {
          "base_uri": "https://localhost:8080/",
          "height": 139
        },
        "outputId": "f874fadb-4ef9-428f-cb75-182b99062695"
      },
      "source": [
        "rus = RandomUnderSampler()\n",
        "X_under, y_under = rus.fit_resample(X, y)\n",
        "print(X_under.shape, y_under.shape)\n",
        "\n",
        "smote = SMOTE()\n",
        "X_smote, y_smote = smote.fit_resample(X, y)\n",
        "print(X_smote.shape, y_smote.shape)"
      ],
      "execution_count": null,
      "outputs": [
        {
          "output_type": "stream",
          "text": [
            "(384, 31) (384,)\n",
            "(2356, 31) (2356,)\n"
          ],
          "name": "stdout"
        },
        {
          "output_type": "stream",
          "text": [
            "/usr/local/lib/python3.6/dist-packages/sklearn/utils/deprecation.py:87: FutureWarning: Function safe_indexing is deprecated; safe_indexing is deprecated in version 0.22 and will be removed in version 0.24.\n",
            "  warnings.warn(msg, category=FutureWarning)\n",
            "/usr/local/lib/python3.6/dist-packages/sklearn/utils/deprecation.py:87: FutureWarning: Function safe_indexing is deprecated; safe_indexing is deprecated in version 0.22 and will be removed in version 0.24.\n",
            "  warnings.warn(msg, category=FutureWarning)\n"
          ],
          "name": "stderr"
        }
      ]
    },
    {
      "cell_type": "code",
      "metadata": {
        "id": "VjNMrUX8co55",
        "colab": {
          "base_uri": "https://localhost:8080/",
          "height": 34
        },
        "outputId": "0cb08093-3fa3-450c-baaf-0e941fa2f217"
      },
      "source": [
        "Xtrain, Xtest, ytrain, ytest = train_test_split(X, y, test_size=0.0729, random_state=42)\n",
        "Xtrain.shape, Xtest.shape, ytrain.shape, ytest.shape"
      ],
      "execution_count": null,
      "outputs": [
        {
          "output_type": "execute_result",
          "data": {
            "text/plain": [
              "((1270, 31), (100, 31), (1270,), (100,))"
            ]
          },
          "metadata": {
            "tags": []
          },
          "execution_count": 17
        }
      ]
    },
    {
      "cell_type": "code",
      "metadata": {
        "id": "qeA1kUkKEFaT",
        "colab": {
          "base_uri": "https://localhost:8080/",
          "height": 34
        },
        "outputId": "8b97756e-ff4c-4234-d94c-086bd45c5ead"
      },
      "source": [
        "X_train_u, X_test_u, y_train_u, y_test_u = train_test_split(X_under, y_under, test_size=0.26, random_state=42)\n",
        "X_train_u.shape, X_test_u.shape, y_train_u.shape, y_test_u.shape"
      ],
      "execution_count": null,
      "outputs": [
        {
          "output_type": "execute_result",
          "data": {
            "text/plain": [
              "((284, 31), (100, 31), (284,), (100,))"
            ]
          },
          "metadata": {
            "tags": []
          },
          "execution_count": 18
        }
      ]
    },
    {
      "cell_type": "code",
      "metadata": {
        "id": "GqgAW4V9gym7",
        "colab": {
          "base_uri": "https://localhost:8080/",
          "height": 34
        },
        "outputId": "5cfa48e4-8079-4afe-d4e1-0bfe30dc91f6"
      },
      "source": [
        "X_train_smote, X_test_smote, y_train_smote, y_test_smote = train_test_split(X_smote, y_smote, test_size=0.26, random_state=42)\n",
        "X_train_smote.shape, X_test_smote.shape, y_train_smote.shape, y_test_smote.shape"
      ],
      "execution_count": null,
      "outputs": [
        {
          "output_type": "execute_result",
          "data": {
            "text/plain": [
              "((1743, 31), (613, 31), (1743,), (613,))"
            ]
          },
          "metadata": {
            "tags": []
          },
          "execution_count": 19
        }
      ]
    },
    {
      "cell_type": "code",
      "metadata": {
        "id": "WrmhSmbHlFT9",
        "colab": {
          "base_uri": "https://localhost:8080/",
          "height": 139
        },
        "outputId": "beaf7839-8123-40bb-f1c5-c921d35966df"
      },
      "source": [
        "#smote = SMOTE()\n",
        "#X_smt, y_smt = smote.fit_resample(Xtrain, ytrain)\n",
        "#print(\"SMOTE : \", X_smt.shape, y_smt.shape)\n",
        "\n",
        "#rus = RandomUnderSampler()\n",
        "#X_rus, y_rus = rus.fit_resample(Xtrain, ytrain)\n",
        "#print(\"RandomUnderSampler : \", X_rus.shape, y_rus.shape)"
      ],
      "execution_count": null,
      "outputs": [
        {
          "output_type": "stream",
          "text": [
            "SMOTE :  (2174, 31) (2174,)\n",
            "RandomUnderSampler :  (366, 31) (366,)\n"
          ],
          "name": "stdout"
        },
        {
          "output_type": "stream",
          "text": [
            "/usr/local/lib/python3.6/dist-packages/sklearn/utils/deprecation.py:87: FutureWarning: Function safe_indexing is deprecated; safe_indexing is deprecated in version 0.22 and will be removed in version 0.24.\n",
            "  warnings.warn(msg, category=FutureWarning)\n",
            "/usr/local/lib/python3.6/dist-packages/sklearn/utils/deprecation.py:87: FutureWarning: Function safe_indexing is deprecated; safe_indexing is deprecated in version 0.22 and will be removed in version 0.24.\n",
            "  warnings.warn(msg, category=FutureWarning)\n"
          ],
          "name": "stderr"
        }
      ]
    },
    {
      "cell_type": "code",
      "metadata": {
        "id": "VqOOeXQuCmsS",
        "colab": {
          "base_uri": "https://localhost:8080/",
          "height": 34
        },
        "outputId": "0a562338-f208-472b-a4e4-32fbd9290ce1"
      },
      "source": [
        "ytest.sum()"
      ],
      "execution_count": null,
      "outputs": [
        {
          "output_type": "execute_result",
          "data": {
            "text/plain": [
              "9"
            ]
          },
          "metadata": {
            "tags": []
          },
          "execution_count": 351
        }
      ]
    },
    {
      "cell_type": "code",
      "metadata": {
        "id": "_sDp_N327WYZ",
        "colab": {
          "base_uri": "https://localhost:8080/",
          "height": 34
        },
        "outputId": "dc263db8-2d6d-4d24-e30e-386bde1efc09"
      },
      "source": [
        "DTC_fs = tree.DecisionTreeClassifier(random_state=0)\n",
        "DTC_fs.fit(X_rus, y_rus)\n",
        "DTC_fs_p = DTC_fs.predict(Xtest)\n",
        "print(f1_score(ytest, DTC_fs_p, average=\"micro\"))"
      ],
      "execution_count": null,
      "outputs": [
        {
          "output_type": "stream",
          "text": [
            "0.61\n"
          ],
          "name": "stdout"
        }
      ]
    },
    {
      "cell_type": "code",
      "metadata": {
        "id": "_XltQW2F-eQ7",
        "colab": {
          "base_uri": "https://localhost:8080/",
          "height": 544
        },
        "outputId": "30282d1d-100a-42b5-dd41-c6d142e7e7f1"
      },
      "source": [
        "for n in range(0, len(DTC_fs.feature_importances_)):\n",
        "  print(f\"{X.columns[n]:-<45}{DTC_fs.feature_importances_[n]*100}%\")"
      ],
      "execution_count": null,
      "outputs": [
        {
          "output_type": "stream",
          "text": [
            "Idade----------------------------------------4.277154475367192%\n",
            "Local de trabalho----------------------------4.265417642466822%\n",
            "Pontuação teste------------------------------5.985004282201531%\n",
            "Departmento----------------------------------0.0%\n",
            "Distancia casa-trabalho----------------------2.7807984023745558%\n",
            "Educacao-------------------------------------0.0%\n",
            "Area-----------------------------------------0.957585219880302%\n",
            "Subordinado----------------------------------15.576514996807317%\n",
            "Satisfação com o ambiente no emprego atual---0.9484777517564399%\n",
            "Genero---------------------------------------0.0%\n",
            "Horas voluntariado---------------------------2.4291508659999375%\n",
            "Envolvimento com trabalho--------------------0.0%\n",
            "Posicao--------------------------------------0.0%\n",
            "Cargo----------------------------------------6.690823302957735%\n",
            "Satisfação com emprego-----------------------0.0%\n",
            "Estado civil---------------------------------0.0%\n",
            "Renda----------------------------------------15.1346007611491%\n",
            "Bonus de performance-------------------------5.1203415423509595%\n",
            "Quantidade de empresas que trabalho----------4.174112627426954%\n",
            "Necessita de hora extra----------------------3.110536135879003%\n",
            "Aumento de salario%--------------------------0.2412412961236916%\n",
            "Performance na entrevista--------------------1.4571948998178508%\n",
            "Satisfação com a relação---------------------4.067093789285732%\n",
            "Beneficios-----------------------------------5.067064083457529%\n",
            "Anos de experiencia--------------------------1.8950539442342724%\n",
            "Horas de treinamento ultimo ano--------------4.613130593173359%\n",
            "Estilo de vida-------------------------------0.3885853066180939%\n",
            "Anos na última empresa-----------------------7.895013612654914%\n",
            "Anos na posição atual------------------------0.4821600771456127%\n",
            "Anos desde última promoção-------------------0.803600128576021%\n",
            "Anos com a mesma gerência--------------------1.6393442622950825%\n"
          ],
          "name": "stdout"
        }
      ]
    },
    {
      "cell_type": "code",
      "metadata": {
        "id": "JnEio0j6E0aQ",
        "colab": {
          "base_uri": "https://localhost:8080/",
          "height": 34
        },
        "outputId": "65321776-d3bd-469d-ccd6-c6130a3947ca"
      },
      "source": [
        "DTC_u = tree.DecisionTreeClassifier(random_state=0)\n",
        "DTC_u.fit(X_train_u, y_train_u)\n",
        "DTC_u_p = DTC_u.predict(X_test_u)\n",
        "print(f1_score(y_test_u, DTC_u_p, average=\"micro\"))"
      ],
      "execution_count": null,
      "outputs": [
        {
          "output_type": "stream",
          "text": [
            "0.63\n"
          ],
          "name": "stdout"
        }
      ]
    },
    {
      "cell_type": "code",
      "metadata": {
        "id": "KT-3CWWPiWfl",
        "colab": {
          "base_uri": "https://localhost:8080/",
          "height": 34
        },
        "outputId": "9ff4ed36-7430-4362-820c-de670415444b"
      },
      "source": [
        "DTC_s = tree.DecisionTreeClassifier(random_state=0)\n",
        "DTC_s.fit(X_train_smote, y_train_smote)\n",
        "DTC_s_p = DTC_s.predict(X_test_smote)\n",
        "print(f1_score(y_test_smote, DTC_s_p, average=\"micro\"))"
      ],
      "execution_count": null,
      "outputs": [
        {
          "output_type": "stream",
          "text": [
            "0.8172920065252853\n"
          ],
          "name": "stdout"
        }
      ]
    },
    {
      "cell_type": "code",
      "metadata": {
        "id": "xTkjJ06cHqDx"
      },
      "source": [
        "from sklearn.feature_selection import SelectKBest, f_classif\n",
        "k_vs_score = []\n",
        "\n",
        "for k in range(2,32,1):\n",
        "  selector = SelectKBest(score_func=f_classif, k=k)\n",
        "\n",
        "  Xtrain2 = selector.fit_transform(X_train_u, y_train_u)\n",
        "  Xval2 = selector.transform(X_test_u)\n",
        "\n",
        "  mdl2 = DecisionTreeClassifier(random_state=0)\n",
        "  mdl2.fit(Xtrain2, y_train_u)\n",
        "\n",
        "  p2 = mdl2.predict(Xval2)\n",
        "\n",
        "  score = f1_score(y_test_u, p2, average=\"micro\")\n",
        "  print(\"k = {} - f1 = {}\".format(k, score))\n",
        "\n",
        "  k_vs_score.append(score)"
      ],
      "execution_count": null,
      "outputs": []
    },
    {
      "cell_type": "code",
      "metadata": {
        "id": "9hlHqcyjHt1D",
        "colab": {
          "base_uri": "https://localhost:8080/",
          "height": 585
        },
        "outputId": "f53a1daa-fc49-4f97-9667-ff8e3c96c4f0"
      },
      "source": [
        "pd.Series(k_vs_score, index=range(2,32,1)).plot(figsize=(10,7));"
      ],
      "execution_count": null,
      "outputs": [
        {
          "output_type": "display_data",
          "data": {
            "image/png": "[encoded data removed]",
            "text/plain": [
              "<Figure size 1000x700 with 1 Axes>"
            ]
          },
          "metadata": {
            "tags": []
          }
        }
      ]
    },
    {
      "cell_type": "code",
      "metadata": {
        "id": "3epoTpKYHvYK",
        "colab": {
          "base_uri": "https://localhost:8080/",
          "height": 358
        },
        "outputId": "8c9bf370-1192-47ea-c2e8-9b9b674a1d04"
      },
      "source": [
        "selector = SelectKBest(score_func=f_classif, k=18)\n",
        "selector.fit(Xtrain, ytrain)\n",
        "\n",
        "mask = selector.get_support()\n",
        "Xtest.columns[mask]\n",
        "\n",
        "pd.Series(selector.scores_, index=Xtrain.columns).sort_values().tail(8).plot.barh();"
      ],
      "execution_count": null,
      "outputs": [
        {
          "output_type": "display_data",
          "data": {
            "image/png": "[encoded data removed]",
            "text/plain": [
              "<Figure size 600x400 with 1 Axes>"
            ]
          },
          "metadata": {
            "tags": []
          }
        }
      ]
    },
    {
      "cell_type": "code",
      "metadata": {
        "id": "JTgvWwDCcQ-P",
        "colab": {
          "base_uri": "https://localhost:8080/",
          "height": 323
        },
        "outputId": "e75c5827-1574-4254-bf0e-37d530e1cd65"
      },
      "source": [
        "maskcols = list(Xtest.columns[mask])\n",
        "maskcols"
      ],
      "execution_count": null,
      "outputs": [
        {
          "output_type": "execute_result",
          "data": {
            "text/plain": [
              "['Idade',\n",
              " 'Local de trabalho',\n",
              " 'Departmento',\n",
              " 'Subordinado',\n",
              " 'Satisfação com o ambiente no emprego atual',\n",
              " 'Envolvimento com trabalho',\n",
              " 'Posicao',\n",
              " 'Cargo',\n",
              " 'Satisfação com emprego',\n",
              " 'Estado civil',\n",
              " 'Renda',\n",
              " 'Necessita de hora extra',\n",
              " 'Beneficios',\n",
              " 'Anos de experiencia',\n",
              " 'Horas de treinamento ultimo ano',\n",
              " 'Anos na última empresa',\n",
              " 'Anos na posição atual',\n",
              " 'Anos com a mesma gerência']"
            ]
          },
          "metadata": {
            "tags": []
          },
          "execution_count": 416
        }
      ]
    },
    {
      "cell_type": "code",
      "metadata": {
        "id": "kAWy7JI9eCJk",
        "colab": {
          "base_uri": "https://localhost:8080/",
          "referenced_widgets": [
            "1e4e4761e8fc454fadfc2a473bc7d6f4"
          ]
        },
        "outputId": "73cb4b0c-7638-4b79-dec1-9ffd0dd10811"
      },
      "source": [
        "tp = TPOTClassifier(random_state=42, generations=30, \n",
        "                    verbosity=2, scoring=\"f1_micro\", early_stop=10)\n",
        "tp.fit(X_train_smote, y_train_smote)\n",
        "tp.export('tpot_exported_pipeline_smote.py')"
      ],
      "execution_count": null,
      "outputs": [
        {
          "output_type": "display_data",
          "data": {
            "application/vnd.jupyter.widget-view+json": {
              "model_id": "1e4e4761e8fc454fadfc2a473bc7d6f4",
              "version_minor": 0,
              "version_major": 2
            },
            "text/plain": [
              "HBox(children=(FloatProgress(value=0.0, description='Optimization Progress', max=3100.0, style=ProgressStyle(d…"
            ]
          },
          "metadata": {
            "tags": []
          }
        },
        {
          "output_type": "stream",
          "text": [
            "\n",
            "Generation 1 - Current best internal CV score: 0.9225422389091987\n",
            "Generation 2 - Current best internal CV score: 0.9276981852913085\n",
            "Generation 3 - Current best internal CV score: 0.9276981852913085\n",
            "Generation 4 - Current best internal CV score: 0.9276981852913085\n",
            "Generation 5 - Current best internal CV score: 0.9305701017686001\n",
            "Generation 6 - Current best internal CV score: 0.9305701017686001\n",
            "Generation 7 - Current best internal CV score: 0.9305701017686001\n",
            "Generation 8 - Current best internal CV score: 0.9305701017686001\n",
            "Generation 9 - Current best internal CV score: 0.9305701017686001\n",
            "Generation 10 - Current best internal CV score: 0.9305701017686001\n",
            "Generation 11 - Current best internal CV score: 0.9305701017686001\n",
            "Generation 12 - Current best internal CV score: 0.9305701017686001\n",
            "Generation 13 - Current best internal CV score: 0.9305717485096994\n",
            "Generation 14 - Current best internal CV score: 0.931722820538155\n",
            "Generation 15 - Current best internal CV score: 0.931722820538155\n",
            "Generation 16 - Current best internal CV score: 0.942619306392649\n",
            "Generation 17 - Current best internal CV score: 0.942619306392649\n",
            "Generation 18 - Current best internal CV score: 0.942619306392649\n",
            "Generation 19 - Current best internal CV score: 0.942619306392649\n",
            "Generation 20 - Current best internal CV score: 0.942619306392649\n",
            "\n",
            "TPOT closed during evaluation in one generation.\n",
            "WARNING: TPOT may not provide a good pipeline if TPOT is stopped/interrupted in a early generation.\n",
            "\n",
            "\n",
            "TPOT closed prematurely. Will use the current best pipeline.\n",
            "\n",
            "Best pipeline: ExtraTreesClassifier(Normalizer(input_matrix, norm=l1), bootstrap=False, criterion=gini, max_features=0.25, min_samples_leaf=1, min_samples_split=4, n_estimators=100)\n"
          ],
          "name": "stdout"
        }
      ]
    },
    {
      "cell_type": "code",
      "metadata": {
        "id": "iOy8LA1r9Nd9",
        "colab": {
          "base_uri": "https://localhost:8080/",
          "height": 68
        },
        "outputId": "5a50360d-af5f-4428-8666-437732f32d71"
      },
      "source": [
        "from sklearn.ensemble import ExtraTreesClassifier\n",
        "from sklearn.model_selection import train_test_split\n",
        "from sklearn.pipeline import make_pipeline\n",
        "from sklearn.preprocessing import Normalizer\n",
        "from tpot.export_utils import set_param_recursive\n",
        "\n",
        "# Average CV score on the training set was: 0.942619306392649\n",
        "pipe_smote = make_pipeline(\n",
        "    Normalizer(norm=\"l1\"),\n",
        "    ExtraTreesClassifier(bootstrap=False, criterion=\"gini\", max_features=0.25, min_samples_leaf=1, min_samples_split=4, n_estimators=100)\n",
        ")\n",
        "set_param_recursive(pipe_smote.steps, 'random_state', 42)\n",
        "\n",
        "pipe_smote.fit(X_train_smote, y_train_smote)\n",
        "predict = pipe_smote.predict(X_test_smote)\n",
        "print(f1_score(y_test_smote, predict, average=\"micro\"))\n",
        "\n",
        "predict2 = pipe_smote.predict(X_test_u)\n",
        "print(f1_score(y_test_u, predict2, average=\"micro\"))\n",
        "\n",
        "predict3 = pipe_smote.predict(Xtest)\n",
        "print(f1_score(ytest, predict3, average=\"micro\"))"
      ],
      "execution_count": null,
      "outputs": [
        {
          "output_type": "stream",
          "text": [
            "0.9526916802610114\n",
            "0.99\n",
            "0.9500000000000001\n"
          ],
          "name": "stdout"
        }
      ]
    },
    {
      "cell_type": "code",
      "metadata": {
        "id": "R8zgwhhxIxP0",
        "colab": {
          "base_uri": "https://localhost:8080/",
          "height": 34
        },
        "outputId": "9e8768f9-9898-4794-e759-7418c0b8a537"
      },
      "source": [
        "from sklearn.linear_model import LogisticRegression\n",
        "from sklearn.pipeline import make_pipeline, make_union\n",
        "from sklearn.preprocessing import MaxAbsScaler\n",
        "from sklearn.tree import DecisionTreeClassifier\n",
        "from tpot.builtins import StackingEstimator\n",
        "from tpot.export_utils import set_param_recursive\n",
        "\n",
        "# 0.7710526315789473 | 0.71 | (284, 31), (100, 31)\n",
        "pipe_under = make_pipeline(\n",
        "    StackingEstimator(estimator=DecisionTreeClassifier(criterion=\"entropy\", max_depth=1, min_samples_leaf=8, min_samples_split=10)),\n",
        "    MaxAbsScaler(),\n",
        "    LogisticRegression(C=5.0, dual=False, penalty=\"l2\")\n",
        ")\n",
        "# Fix random state for all the steps in exported pipeline\n",
        "set_param_recursive(exported_pipeline.steps, 'random_state', 42)\n",
        "\n",
        "pipe_under.fit(X_train_u, y_train_u)\n",
        "results = pipe_under.predict(X_test_u)\n",
        "print(f1_score(y_test_u, results, average=\"micro\"))"
      ],
      "execution_count": null,
      "outputs": [
        {
          "output_type": "stream",
          "text": [
            "0.7100000000000001\n"
          ],
          "name": "stdout"
        }
      ]
    },
    {
      "cell_type": "code",
      "metadata": {
        "id": "KMm6y2KWbAeI",
        "colab": {
          "base_uri": "https://localhost:8080/",
          "height": 34
        },
        "outputId": "f3670ab2-d163-4c3a-b020-fe4ac69107c2"
      },
      "source": [
        "from sklearn.ensemble import GradientBoostingClassifier\n",
        "from sklearn.pipeline import make_pipeline\n",
        "from sklearn.preprocessing import Normalizer, PolynomialFeatures\n",
        "from tpot.export_utils import set_param_recursive\n",
        "\n",
        "# 0.9342210922188675 | 0.7 | (2174, 31)\n",
        "pipe1_rus = make_pipeline(\n",
        "    PolynomialFeatures(degree=2, include_bias=False, interaction_only=False),\n",
        "    Normalizer(norm=\"l1\"),\n",
        "    GradientBoostingClassifier(learning_rate=0.5, max_depth=6, max_features=0.8500000000000001, min_samples_leaf=4, min_samples_split=5, n_estimators=100, subsample=0.7000000000000001)\n",
        ")\n",
        "set_param_recursive(exported_pipeline.steps, 'random_state', 42)\n",
        "\n",
        "pipe1_rus.fit(X_rus, y_rus)\n",
        "results = pipe1_rus.predict(Xtest)\n",
        "print(f1_score(ytest, results, average=\"micro\"))"
      ],
      "execution_count": null,
      "outputs": [
        {
          "output_type": "stream",
          "text": [
            "0.7\n"
          ],
          "name": "stdout"
        }
      ]
    },
    {
      "cell_type": "code",
      "metadata": {
        "id": "v5QCtkp1hDUv",
        "colab": {
          "base_uri": "https://localhost:8080/",
          "height": 34
        },
        "outputId": "d1acc268-96fc-4739-f7d8-6428f36743a7"
      },
      "source": [
        "from sklearn.naive_bayes import BernoulliNB, MultinomialNB\n",
        "from sklearn.pipeline import make_pipeline, make_union\n",
        "from tpot.builtins import StackingEstimator\n",
        "from tpot.export_utils import set_param_recursive\n",
        "\n",
        "# 0.7128470936690114 | 0.76 (366, 2)\n",
        "pipe2_rus = make_pipeline(\n",
        "    StackingEstimator(estimator=BernoulliNB(alpha=0.1, fit_prior=False)),\n",
        "    MultinomialNB(alpha=0.01, fit_prior=True)\n",
        ")\n",
        "# Fix random state for all the steps in exported pipeline\n",
        "set_param_recursive(pipe2_rus.steps, 'random_state', 42)\n",
        "\n",
        "pipe2_rus.fit(X_rus, y_rus)\n",
        "results = pipe2_rus.predict(Xtest)\n",
        "print(f1_score(ytest, results, average=\"micro\"))"
      ],
      "execution_count": null,
      "outputs": [
        {
          "output_type": "stream",
          "text": [
            "0.76\n"
          ],
          "name": "stdout"
        }
      ]
    },
    {
      "cell_type": "code",
      "metadata": {
        "id": "ve4aIb69irHS",
        "colab": {
          "base_uri": "https://localhost:8080/",
          "height": 34
        },
        "outputId": "eea4080e-0cbe-49dc-cb3a-abee78be9859"
      },
      "source": [
        "from sklearn.pipeline import make_pipeline, make_union\n",
        "from sklearn.preprocessing import MaxAbsScaler, MinMaxScaler\n",
        "from sklearn.tree import DecisionTreeClassifier\n",
        "from tpot.builtins import StackingEstimator\n",
        "from tpot.export_utils import set_param_recursive\n",
        "from sklearn.preprocessing import FunctionTransformer\n",
        "from copy import copy\n",
        "\n",
        "# Average CV score on the training set was: 0.7621251388374676\n",
        "pipe3_rus = make_pipeline(\n",
        "    make_union(\n",
        "        FunctionTransformer(copy),\n",
        "        FunctionTransformer(copy)\n",
        "    ),\n",
        "    MaxAbsScaler(),\n",
        "    MinMaxScaler(),\n",
        "    StackingEstimator(estimator=DecisionTreeClassifier(criterion=\"entropy\", max_depth=9, min_samples_leaf=7, min_samples_split=11)),\n",
        "    BernoulliNB(alpha=0.001, fit_prior=True)\n",
        ")\n",
        "# Fix random state for all the steps in exported pipeline\n",
        "set_param_recursive(pipe3_rus.steps, 'random_state', 42)\n",
        "\n",
        "pipe3_rus.fit(X_rus, y_rus)\n",
        "results = pipe3_rus.predict(Xtest)\n",
        "print(f1_score(ytest, results, average=\"micro\"))"
      ],
      "execution_count": null,
      "outputs": [
        {
          "output_type": "stream",
          "text": [
            "0.83\n"
          ],
          "name": "stdout"
        }
      ]
    },
    {
      "cell_type": "code",
      "metadata": {
        "id": "EX6HjqfO2Sui",
        "colab": {
          "base_uri": "https://localhost:8080/",
          "height": 241
        },
        "outputId": "42553f7f-508c-40a8-da34-319408fdf08e"
      },
      "source": [
        "!pip install scikit-optimize"
      ],
      "execution_count": null,
      "outputs": [
        {
          "output_type": "stream",
          "text": [
            "Collecting scikit-optimize\n",
            "\u001b[?25l  Downloading https://files.pythonhosted.org/packages/8b/03/be33e89f55866065a02e515c5b319304a801a9f1027a9b311a9b1d1f8dc7/scikit_optimize-0.8.1-py2.py3-none-any.whl (101kB)\n",
            "\r\u001b[K     |███▎                            | 10kB 16.9MB/s eta 0:00:01\r\u001b[K     |██████▌                         | 20kB 1.8MB/s eta 0:00:01\r\u001b[K     |█████████▊                      | 30kB 2.3MB/s eta 0:00:01\r\u001b[K     |█████████████                   | 40kB 2.6MB/s eta 0:00:01\r\u001b[K     |████████████████▏               | 51kB 2.0MB/s eta 0:00:01\r\u001b[K     |███████████████████▍            | 61kB 2.3MB/s eta 0:00:01\r\u001b[K     |██████████████████████▊         | 71kB 2.5MB/s eta 0:00:01\r\u001b[K     |██████████████████████████      | 81kB 2.8MB/s eta 0:00:01\r\u001b[K     |█████████████████████████████▏  | 92kB 3.0MB/s eta 0:00:01\r\u001b[K     |████████████████████████████████| 102kB 2.3MB/s \n",
            "\u001b[?25hCollecting pyaml>=16.9\n",
            "  Downloading https://files.pythonhosted.org/packages/15/c4/1310a054d33abc318426a956e7d6df0df76a6ddfa9c66f6310274fb75d42/pyaml-20.4.0-py2.py3-none-any.whl\n",
            "Requirement already satisfied: numpy>=1.13.3 in /usr/local/lib/python3.6/dist-packages (from scikit-optimize) (1.18.5)\n",
            "Requirement already satisfied: scipy>=0.19.1 in /usr/local/lib/python3.6/dist-packages (from scikit-optimize) (1.4.1)\n",
            "Requirement already satisfied: scikit-learn>=0.20.0 in /usr/local/lib/python3.6/dist-packages (from scikit-optimize) (0.22.2.post1)\n",
            "Requirement already satisfied: joblib>=0.11 in /usr/local/lib/python3.6/dist-packages (from scikit-optimize) (0.16.0)\n",
            "Requirement already satisfied: PyYAML in /usr/local/lib/python3.6/dist-packages (from pyaml>=16.9->scikit-optimize) (3.13)\n",
            "Installing collected packages: pyaml, scikit-optimize\n",
            "Successfully installed pyaml-20.4.0 scikit-optimize-0.8.1\n"
          ],
          "name": "stdout"
        }
      ]
    },
    {
      "cell_type": "code",
      "metadata": {
        "id": "2iXeNyRp2Rpu"
      },
      "source": [
        "from skopt import gp_minimize\n",
        "\n",
        "def tunar_modelo(params):\n",
        "  learning_rate = params[0]\n",
        "  n_estimators = params[1]\n",
        "  min_samples_split = params[2]\n",
        "  min_samples_leaf = params[3]\n",
        "\n",
        "  print(params,'\\n')\n",
        "  mdl = GradientBoostingClassifier(\n",
        "      learning_rate = learning_rate, n_estimators = n_estimators,\n",
        "      min_samples_split = min_samples_split.astype(int), \n",
        "      min_samples_leaf = min_samples_leaf.astype(int), \n",
        "      random_state = 0)\n",
        "  \n",
        "  mdl.fit(Xtrain, ytrain)\n",
        "  p = mdl.predict(Xtest)\n",
        "  return -f1_score(ytest, p, average=\"micro\")\n",
        "\n",
        "space = [(1e-2, 1e-1), # learning_rate\n",
        "         (1, 1000), # n_estimators\n",
        "         (2, 100), # min_samples_split\n",
        "         (1, 100)] # min_samples_leaf, # subsample, # max_features\n",
        "\n",
        "resultado_gp = gp_minimize(tunar_modelo, space, random_state=0, \n",
        "                           n_calls=100, n_random_starts=20, verbose=1)"
      ],
      "execution_count": null,
      "outputs": []
    },
    {
      "cell_type": "code",
      "metadata": {
        "id": "7XJ1x6J97kkk",
        "colab": {
          "base_uri": "https://localhost:8080/",
          "height": 34
        },
        "outputId": "bbafb792-e4f1-4714-ea14-74d7bf0131bc"
      },
      "source": [
        "resultado_gp.x # 92,34% [0.062100338765976607, 769, 100, 100]\n",
        "# 92% [0.1, 1000, 2, 1] "
      ],
      "execution_count": null,
      "outputs": [
        {
          "output_type": "execute_result",
          "data": {
            "text/plain": [
              "[0.06335601564025166, 844, 86, 85]"
            ]
          },
          "metadata": {
            "tags": []
          },
          "execution_count": 331
        }
      ]
    },
    {
      "cell_type": "code",
      "metadata": {
        "id": "n2bsCXnr96Ls",
        "colab": {
          "base_uri": "https://localhost:8080/",
          "height": 34
        },
        "outputId": "2150c94b-935a-470a-aed0-1121d7d53c80"
      },
      "source": [
        "GBC = GradientBoostingClassifier(learning_rate = 0.062100338765976607, n_estimators = 769,\n",
        "                                  min_samples_split = 100, min_samples_leaf = 100, random_state = 0)\n",
        "GBC.fit(Xtrain, ytrain)\n",
        "p = GBC.predict(Xtest)\n",
        "print(f1_score(ytest, p, average=\"micro\"))"
      ],
      "execution_count": null,
      "outputs": [
        {
          "output_type": "stream",
          "text": [
            "0.96\n"
          ],
          "name": "stdout"
        }
      ]
    },
    {
      "cell_type": "code",
      "metadata": {
        "id": "enk72pEI5w6P",
        "colab": {
          "base_uri": "https://localhost:8080/",
          "height": 34
        },
        "outputId": "67dce887-c9a0-4c53-c671-326b0410e0e2"
      },
      "source": [
        "GBC2 = GradientBoostingClassifier(learning_rate = 0.1, n_estimators = 1000,\n",
        "                                  min_samples_split = 2, min_samples_leaf = 1,\n",
        "                                  random_state = 0)\n",
        "GBC2.fit(Xtrain, ytrain)\n",
        "p = GBC2.predict(Xtest)\n",
        "print(f1_score(ytest, p, average=\"micro\"))"
      ],
      "execution_count": null,
      "outputs": [
        {
          "output_type": "stream",
          "text": [
            "0.92\n"
          ],
          "name": "stdout"
        }
      ]
    },
    {
      "cell_type": "code",
      "metadata": {
        "id": "0mRwSkySEV1w"
      },
      "source": [
        "toScore2_droped = toScore2.drop([\"Departmento\", \"Genero\", \"Estado civil\", \n",
        "              \"Anos na posição atual\", \"Anos desde última promoção\"],axis=1)\n",
        "toScore2_droped.columns"
      ],
      "execution_count": null,
      "outputs": []
    },
    {
      "cell_type": "code",
      "metadata": {
        "id": "j0ilEhcyFJjO"
      },
      "source": [
        "Xtrain.columns"
      ],
      "execution_count": null,
      "outputs": []
    },
    {
      "cell_type": "code",
      "metadata": {
        "id": "3FBizfV9yf9o",
        "colab": {
          "base_uri": "https://localhost:8080/",
          "height": 34
        },
        "outputId": "6fd686c9-54af-4a4e-fe27-c899610ad0d8"
      },
      "source": [
        "GBC_p = GBC.predict(toScore2)\n",
        "GBC_p.sum()"
      ],
      "execution_count": null,
      "outputs": [
        {
          "output_type": "execute_result",
          "data": {
            "text/plain": [
              "5"
            ]
          },
          "metadata": {
            "tags": []
          },
          "execution_count": 256
        }
      ]
    },
    {
      "cell_type": "code",
      "metadata": {
        "id": "GaPRkj0j1LIp",
        "colab": {
          "base_uri": "https://localhost:8080/",
          "height": 34
        },
        "outputId": "3d62b6c2-55de-4695-8fc7-e9d8b4a0b1d3"
      },
      "source": [
        "Submission3 = pd.DataFrame(GBC_p, columns=[\"$R-Contratar\"])\n",
        "\n",
        "Submission3.loc[Submission3[\"$R-Contratar\"] == 1, \"$R-Contratar\"] = \"Sim\"\n",
        "Submission3.loc[Submission3[\"$R-Contratar\"] == 0, \"$R-Contratar\"] = \"Não\"\n",
        "\n",
        "results2 = pd.read_csv(\"/content/results2.csv\")\n",
        "count = 0\n",
        "for n in range(0, 100):\n",
        "  if Submission3[\"$R-Contratar\"][n] != results2[\"$R-Contratar\"][n]:\n",
        "    count += 1\n",
        "count"
      ],
      "execution_count": null,
      "outputs": [
        {
          "output_type": "execute_result",
          "data": {
            "text/plain": [
              "4"
            ]
          },
          "metadata": {
            "tags": []
          },
          "execution_count": 325
        }
      ]
    },
    {
      "cell_type": "code",
      "metadata": {
        "id": "-ColebRc2Cuz",
        "colab": {
          "base_uri": "https://localhost:8080/",
          "height": 68
        },
        "outputId": "5a072d3a-8758-4d6c-c2f5-44eacd33b608"
      },
      "source": [
        "Submission3[\"$R-Contratar\"].value_counts()"
      ],
      "execution_count": null,
      "outputs": [
        {
          "output_type": "execute_result",
          "data": {
            "text/plain": [
              "Não    95\n",
              "Sim     5\n",
              "Name: $R-Contratar, dtype: int64"
            ]
          },
          "metadata": {
            "tags": []
          },
          "execution_count": 328
        }
      ]
    },
    {
      "cell_type": "code",
      "metadata": {
        "id": "dPRSfQH9EIPA",
        "colab": {
          "base_uri": "https://localhost:8080/",
          "height": 34
        },
        "outputId": "0f1480ea-e499-4a05-fc56-e86329fc13de"
      },
      "source": [
        "DTC_fs_pred = DTC_fs.predict(toScore2)\n",
        "DTC_fs_pred.sum()"
      ],
      "execution_count": null,
      "outputs": [
        {
          "output_type": "execute_result",
          "data": {
            "text/plain": [
              "25"
            ]
          },
          "metadata": {
            "tags": []
          },
          "execution_count": 257
        }
      ]
    },
    {
      "cell_type": "code",
      "metadata": {
        "id": "45gQPrwWhcR8",
        "colab": {
          "base_uri": "https://localhost:8080/",
          "height": 34
        },
        "outputId": "5ac412db-a983-496d-8548-a106c432ea59"
      },
      "source": [
        "pipe2_rus_pred = pipe2_rus.predict(toScore2[maskcols])\n",
        "pipe2_rus_pred.sum()"
      ],
      "execution_count": null,
      "outputs": [
        {
          "output_type": "execute_result",
          "data": {
            "text/plain": [
              "42"
            ]
          },
          "metadata": {
            "tags": []
          },
          "execution_count": 258
        }
      ]
    },
    {
      "cell_type": "code",
      "metadata": {
        "id": "5xfD5JzBjBLA",
        "colab": {
          "base_uri": "https://localhost:8080/",
          "height": 34
        },
        "outputId": "6b283884-0f4d-4bd2-90cd-e3261071b8d8"
      },
      "source": [
        "pipe3_rus_pred = pipe3_rus.predict(toScore2)\n",
        "pipe3_rus_pred.sum()"
      ],
      "execution_count": null,
      "outputs": [
        {
          "output_type": "execute_result",
          "data": {
            "text/plain": [
              "17"
            ]
          },
          "metadata": {
            "tags": []
          },
          "execution_count": 259
        }
      ]
    },
    {
      "cell_type": "code",
      "metadata": {
        "id": "MhpV87Ah6AFT",
        "colab": {
          "base_uri": "https://localhost:8080/",
          "height": 34
        },
        "outputId": "6dbec576-c752-4889-f9e5-04f1631bf97e"
      },
      "source": [
        "GBC2_pred = GBC2.predict(toScore2[maskcols])\n",
        "GBC2_pred.sum()"
      ],
      "execution_count": null,
      "outputs": [
        {
          "output_type": "execute_result",
          "data": {
            "text/plain": [
              "3"
            ]
          },
          "metadata": {
            "tags": []
          },
          "execution_count": 335
        }
      ]
    },
    {
      "cell_type": "code",
      "metadata": {
        "id": "F178jTnTevGk",
        "colab": {
          "base_uri": "https://localhost:8080/",
          "height": 34
        },
        "outputId": "4968dc1c-b7cb-45d6-efcb-566df8fe5b81"
      },
      "source": [
        "pipe_under_pred = pipe_under.predict(toScore2)\n",
        "pipe_under_pred.sum()"
      ],
      "execution_count": null,
      "outputs": [
        {
          "output_type": "execute_result",
          "data": {
            "text/plain": [
              "27"
            ]
          },
          "metadata": {
            "tags": []
          },
          "execution_count": 433
        }
      ]
    },
    {
      "cell_type": "code",
      "metadata": {
        "id": "DZtzbskpfrkn"
      },
      "source": [
        ""
      ],
      "execution_count": null,
      "outputs": []
    },
    {
      "cell_type": "code",
      "metadata": {
        "id": "XIRWFNvw608P",
        "colab": {
          "base_uri": "https://localhost:8080/",
          "height": 168
        },
        "outputId": "5feafd08-7437-4e6d-bdbf-72d33e251ea0"
      },
      "source": [
        "toScore2.loc[(toScore2[\"Anos de experiencia\"] == 0) & \n",
        "             (toScore2[\"Necessita de hora extra\"] == 1)]"
      ],
      "execution_count": null,
      "outputs": [
        {
          "output_type": "execute_result",
          "data": {
            "text/html": [
              "<div>\n",
              "<style scoped>\n",
              "    .dataframe tbody tr th:only-of-type {\n",
              "        vertical-align: middle;\n",
              "    }\n",
              "\n",
              "    .dataframe tbody tr th {\n",
              "        vertical-align: top;\n",
              "    }\n",
              "\n",
              "    .dataframe thead th {\n",
              "        text-align: right;\n",
              "    }\n",
              "</style>\n",
              "<table border=\"1\" class=\"dataframe\">\n",
              "  <thead>\n",
              "    <tr style=\"text-align: right;\">\n",
              "      <th></th>\n",
              "      <th>Idade</th>\n",
              "      <th>Local de trabalho</th>\n",
              "      <th>Pontuação teste</th>\n",
              "      <th>Departmento</th>\n",
              "      <th>Distancia casa-trabalho</th>\n",
              "      <th>Educacao</th>\n",
              "      <th>Area</th>\n",
              "      <th>Subordinado</th>\n",
              "      <th>Satisfação com o ambiente no emprego atual</th>\n",
              "      <th>Genero</th>\n",
              "      <th>Horas voluntariado</th>\n",
              "      <th>Envolvimento com trabalho</th>\n",
              "      <th>Posicao</th>\n",
              "      <th>Cargo</th>\n",
              "      <th>Satisfação com emprego</th>\n",
              "      <th>Estado civil</th>\n",
              "      <th>Renda</th>\n",
              "      <th>Bonus de performance</th>\n",
              "      <th>Quantidade de empresas que trabalho</th>\n",
              "      <th>Necessita de hora extra</th>\n",
              "      <th>Aumento de salario%</th>\n",
              "      <th>Performance na entrevista</th>\n",
              "      <th>Satisfação com a relação</th>\n",
              "      <th>Beneficios</th>\n",
              "      <th>Anos de experiencia</th>\n",
              "      <th>Horas de treinamento ultimo ano</th>\n",
              "      <th>Estilo de vida</th>\n",
              "      <th>Anos na última empresa</th>\n",
              "      <th>Anos na posição atual</th>\n",
              "      <th>Anos desde última promoção</th>\n",
              "      <th>Anos com a mesma gerência</th>\n",
              "    </tr>\n",
              "  </thead>\n",
              "  <tbody>\n",
              "    <tr>\n",
              "      <th>77</th>\n",
              "      <td>19</td>\n",
              "      <td>2</td>\n",
              "      <td>528</td>\n",
              "      <td>2</td>\n",
              "      <td>22</td>\n",
              "      <td>0</td>\n",
              "      <td>3</td>\n",
              "      <td>167</td>\n",
              "      <td>4</td>\n",
              "      <td>1</td>\n",
              "      <td>50</td>\n",
              "      <td>3</td>\n",
              "      <td>1</td>\n",
              "      <td>8</td>\n",
              "      <td>3</td>\n",
              "      <td>2</td>\n",
              "      <td>1675</td>\n",
              "      <td>26820</td>\n",
              "      <td>1</td>\n",
              "      <td>1</td>\n",
              "      <td>19</td>\n",
              "      <td>3</td>\n",
              "      <td>4</td>\n",
              "      <td>0</td>\n",
              "      <td>0</td>\n",
              "      <td>2</td>\n",
              "      <td>2</td>\n",
              "      <td>0</td>\n",
              "      <td>0</td>\n",
              "      <td>0</td>\n",
              "      <td>0</td>\n",
              "    </tr>\n",
              "  </tbody>\n",
              "</table>\n",
              "</div>"
            ],
            "text/plain": [
              "    Idade  ...  Anos com a mesma gerência\n",
              "77     19  ...                          0\n",
              "\n",
              "[1 rows x 31 columns]"
            ]
          },
          "metadata": {
            "tags": []
          },
          "execution_count": 345
        }
      ]
    },
    {
      "cell_type": "code",
      "metadata": {
        "id": "NsjPd1yBpqjj",
        "colab": {
          "base_uri": "https://localhost:8080/",
          "height": 34
        },
        "outputId": "4a642028-6258-4b50-8b34-753fabb5e2bf"
      },
      "source": [
        "count = 0\n",
        "for row in range(0,100):\n",
        "  if pipe3_rus_pred[row] != DTC_fs_pred[row]:\n",
        "    count += 1\n",
        "print(count) "
      ],
      "execution_count": null,
      "outputs": [
        {
          "output_type": "stream",
          "text": [
            "12\n"
          ],
          "name": "stdout"
        }
      ]
    },
    {
      "cell_type": "code",
      "metadata": {
        "id": "A8t8ILLZfwOo",
        "colab": {
          "base_uri": "https://localhost:8080/",
          "height": 34
        },
        "outputId": "b1ffec98-672b-48a7-fa4e-7ae7c4d5f8e1"
      },
      "source": [
        "count = 0\n",
        "for row in range(0,100):\n",
        "  if pipe_under_pred[row] != DTC_fs_pred[row]:\n",
        "    count += 1\n",
        "print(count) "
      ],
      "execution_count": null,
      "outputs": [
        {
          "output_type": "stream",
          "text": [
            "18\n"
          ],
          "name": "stdout"
        }
      ]
    },
    {
      "cell_type": "code",
      "metadata": {
        "id": "IQJxw0wYzJoN"
      },
      "source": [
        "pd.DataFrame(GBC_p, columns=[\"$R-Contratar\"]).to_csv(\"results\", index=False) # ***"
      ],
      "execution_count": null,
      "outputs": []
    },
    {
      "cell_type": "code",
      "metadata": {
        "id": "Dh0zNqmClFA5",
        "colab": {
          "base_uri": "https://localhost:8080/",
          "height": 728
        },
        "outputId": "4b4f83f4-64c9-4ed4-ca19-6136db08059b"
      },
      "source": [
        "pd.concat([toScore, pd.Series(pipe2_rus_pred)], axis=1)"
      ],
      "execution_count": null,
      "outputs": [
        {
          "output_type": "execute_result",
          "data": {
            "text/html": [
              "<div>\n",
              "<style scoped>\n",
              "    .dataframe tbody tr th:only-of-type {\n",
              "        vertical-align: middle;\n",
              "    }\n",
              "\n",
              "    .dataframe tbody tr th {\n",
              "        vertical-align: top;\n",
              "    }\n",
              "\n",
              "    .dataframe thead th {\n",
              "        text-align: right;\n",
              "    }\n",
              "</style>\n",
              "<table border=\"1\" class=\"dataframe\">\n",
              "  <thead>\n",
              "    <tr style=\"text-align: right;\">\n",
              "      <th></th>\n",
              "      <th>Idade</th>\n",
              "      <th>Local de trabalho</th>\n",
              "      <th>Pontuação teste</th>\n",
              "      <th>Departmento</th>\n",
              "      <th>Distancia casa-trabalho</th>\n",
              "      <th>Educacao</th>\n",
              "      <th>Area</th>\n",
              "      <th>Subordinado</th>\n",
              "      <th>Satisfação com o ambiente no emprego atual</th>\n",
              "      <th>Genero</th>\n",
              "      <th>Horas voluntariado</th>\n",
              "      <th>Envolvimento com trabalho</th>\n",
              "      <th>Posicao</th>\n",
              "      <th>Cargo</th>\n",
              "      <th>Satisfação com emprego</th>\n",
              "      <th>Estado civil</th>\n",
              "      <th>Renda</th>\n",
              "      <th>Bonus de performance</th>\n",
              "      <th>Quantidade de empresas que trabalho</th>\n",
              "      <th>Necessita de hora extra</th>\n",
              "      <th>Aumento de salario%</th>\n",
              "      <th>Performance na entrevista</th>\n",
              "      <th>Satisfação com a relação</th>\n",
              "      <th>Beneficios</th>\n",
              "      <th>Anos de experiencia</th>\n",
              "      <th>Horas de treinamento ultimo ano</th>\n",
              "      <th>Estilo de vida</th>\n",
              "      <th>Anos na última empresa</th>\n",
              "      <th>Anos na posição atual</th>\n",
              "      <th>Anos desde última promoção</th>\n",
              "      <th>Anos com a mesma gerência</th>\n",
              "      <th>0</th>\n",
              "    </tr>\n",
              "  </thead>\n",
              "  <tbody>\n",
              "    <tr>\n",
              "      <th>0</th>\n",
              "      <td>40</td>\n",
              "      <td>Misto</td>\n",
              "      <td>444</td>\n",
              "      <td>Vendas</td>\n",
              "      <td>2</td>\n",
              "      <td>Superior incompleto</td>\n",
              "      <td>Marketing</td>\n",
              "      <td>1986</td>\n",
              "      <td>2</td>\n",
              "      <td>F</td>\n",
              "      <td>92</td>\n",
              "      <td>3</td>\n",
              "      <td>2</td>\n",
              "      <td>Vendedo senior</td>\n",
              "      <td>2</td>\n",
              "      <td>Casado</td>\n",
              "      <td>5677</td>\n",
              "      <td>4258</td>\n",
              "      <td>3</td>\n",
              "      <td>Não</td>\n",
              "      <td>14</td>\n",
              "      <td>3</td>\n",
              "      <td>3</td>\n",
              "      <td>1</td>\n",
              "      <td>15</td>\n",
              "      <td>4</td>\n",
              "      <td>3</td>\n",
              "      <td>11</td>\n",
              "      <td>8</td>\n",
              "      <td>5</td>\n",
              "      <td>10</td>\n",
              "      <td>0</td>\n",
              "    </tr>\n",
              "    <tr>\n",
              "      <th>1</th>\n",
              "      <td>25</td>\n",
              "      <td>Misto</td>\n",
              "      <td>309</td>\n",
              "      <td>RH</td>\n",
              "      <td>2</td>\n",
              "      <td>Superior completo</td>\n",
              "      <td>Ciências humanas</td>\n",
              "      <td>1987</td>\n",
              "      <td>3</td>\n",
              "      <td>F</td>\n",
              "      <td>82</td>\n",
              "      <td>3</td>\n",
              "      <td>1</td>\n",
              "      <td>Assistente</td>\n",
              "      <td>2</td>\n",
              "      <td>Casado</td>\n",
              "      <td>2187</td>\n",
              "      <td>19655</td>\n",
              "      <td>4</td>\n",
              "      <td>Não</td>\n",
              "      <td>14</td>\n",
              "      <td>3</td>\n",
              "      <td>3</td>\n",
              "      <td>0</td>\n",
              "      <td>6</td>\n",
              "      <td>3</td>\n",
              "      <td>3</td>\n",
              "      <td>2</td>\n",
              "      <td>0</td>\n",
              "      <td>1</td>\n",
              "      <td>2</td>\n",
              "      <td>0</td>\n",
              "    </tr>\n",
              "    <tr>\n",
              "      <th>2</th>\n",
              "      <td>30</td>\n",
              "      <td>Misto</td>\n",
              "      <td>911</td>\n",
              "      <td>Engenharia</td>\n",
              "      <td>1</td>\n",
              "      <td>Superior incompleto</td>\n",
              "      <td>Medicina</td>\n",
              "      <td>1989</td>\n",
              "      <td>4</td>\n",
              "      <td>M</td>\n",
              "      <td>76</td>\n",
              "      <td>3</td>\n",
              "      <td>1</td>\n",
              "      <td>Tecnico</td>\n",
              "      <td>2</td>\n",
              "      <td>Casado</td>\n",
              "      <td>3748</td>\n",
              "      <td>4077</td>\n",
              "      <td>1</td>\n",
              "      <td>Não</td>\n",
              "      <td>13</td>\n",
              "      <td>3</td>\n",
              "      <td>3</td>\n",
              "      <td>0</td>\n",
              "      <td>12</td>\n",
              "      <td>6</td>\n",
              "      <td>2</td>\n",
              "      <td>12</td>\n",
              "      <td>8</td>\n",
              "      <td>1</td>\n",
              "      <td>7</td>\n",
              "      <td>0</td>\n",
              "    </tr>\n",
              "    <tr>\n",
              "      <th>3</th>\n",
              "      <td>25</td>\n",
              "      <td>Misto</td>\n",
              "      <td>977</td>\n",
              "      <td>Engenharia</td>\n",
              "      <td>2</td>\n",
              "      <td>Médio completo</td>\n",
              "      <td>Outros</td>\n",
              "      <td>1992</td>\n",
              "      <td>4</td>\n",
              "      <td>M</td>\n",
              "      <td>57</td>\n",
              "      <td>3</td>\n",
              "      <td>1</td>\n",
              "      <td>Tecnico</td>\n",
              "      <td>3</td>\n",
              "      <td>Divorciado</td>\n",
              "      <td>3977</td>\n",
              "      <td>7298</td>\n",
              "      <td>6</td>\n",
              "      <td>Sim</td>\n",
              "      <td>19</td>\n",
              "      <td>3</td>\n",
              "      <td>3</td>\n",
              "      <td>1</td>\n",
              "      <td>7</td>\n",
              "      <td>2</td>\n",
              "      <td>2</td>\n",
              "      <td>2</td>\n",
              "      <td>2</td>\n",
              "      <td>0</td>\n",
              "      <td>2</td>\n",
              "      <td>1</td>\n",
              "    </tr>\n",
              "    <tr>\n",
              "      <th>4</th>\n",
              "      <td>47</td>\n",
              "      <td>Escritório</td>\n",
              "      <td>1180</td>\n",
              "      <td>Engenharia</td>\n",
              "      <td>25</td>\n",
              "      <td>Superior completo</td>\n",
              "      <td>Medicina</td>\n",
              "      <td>1993</td>\n",
              "      <td>1</td>\n",
              "      <td>M</td>\n",
              "      <td>84</td>\n",
              "      <td>3</td>\n",
              "      <td>3</td>\n",
              "      <td>Analista</td>\n",
              "      <td>3</td>\n",
              "      <td>Solteiro</td>\n",
              "      <td>8633</td>\n",
              "      <td>13084</td>\n",
              "      <td>2</td>\n",
              "      <td>Não</td>\n",
              "      <td>23</td>\n",
              "      <td>4</td>\n",
              "      <td>2</td>\n",
              "      <td>0</td>\n",
              "      <td>25</td>\n",
              "      <td>3</td>\n",
              "      <td>3</td>\n",
              "      <td>17</td>\n",
              "      <td>14</td>\n",
              "      <td>12</td>\n",
              "      <td>11</td>\n",
              "      <td>0</td>\n",
              "    </tr>\n",
              "    <tr>\n",
              "      <th>...</th>\n",
              "      <td>...</td>\n",
              "      <td>...</td>\n",
              "      <td>...</td>\n",
              "      <td>...</td>\n",
              "      <td>...</td>\n",
              "      <td>...</td>\n",
              "      <td>...</td>\n",
              "      <td>...</td>\n",
              "      <td>...</td>\n",
              "      <td>...</td>\n",
              "      <td>...</td>\n",
              "      <td>...</td>\n",
              "      <td>...</td>\n",
              "      <td>...</td>\n",
              "      <td>...</td>\n",
              "      <td>...</td>\n",
              "      <td>...</td>\n",
              "      <td>...</td>\n",
              "      <td>...</td>\n",
              "      <td>...</td>\n",
              "      <td>...</td>\n",
              "      <td>...</td>\n",
              "      <td>...</td>\n",
              "      <td>...</td>\n",
              "      <td>...</td>\n",
              "      <td>...</td>\n",
              "      <td>...</td>\n",
              "      <td>...</td>\n",
              "      <td>...</td>\n",
              "      <td>...</td>\n",
              "      <td>...</td>\n",
              "      <td>...</td>\n",
              "    </tr>\n",
              "    <tr>\n",
              "      <th>95</th>\n",
              "      <td>37</td>\n",
              "      <td>Cliente</td>\n",
              "      <td>504</td>\n",
              "      <td>Engenharia</td>\n",
              "      <td>10</td>\n",
              "      <td>Superior completo</td>\n",
              "      <td>Medicina</td>\n",
              "      <td>342</td>\n",
              "      <td>1</td>\n",
              "      <td>M</td>\n",
              "      <td>61</td>\n",
              "      <td>3</td>\n",
              "      <td>3</td>\n",
              "      <td>Supervisor</td>\n",
              "      <td>3</td>\n",
              "      <td>Divorciado</td>\n",
              "      <td>10048</td>\n",
              "      <td>22573</td>\n",
              "      <td>6</td>\n",
              "      <td>Não</td>\n",
              "      <td>11</td>\n",
              "      <td>3</td>\n",
              "      <td>2</td>\n",
              "      <td>2</td>\n",
              "      <td>17</td>\n",
              "      <td>5</td>\n",
              "      <td>3</td>\n",
              "      <td>1</td>\n",
              "      <td>0</td>\n",
              "      <td>0</td>\n",
              "      <td>0</td>\n",
              "      <td>0</td>\n",
              "    </tr>\n",
              "    <tr>\n",
              "      <th>96</th>\n",
              "      <td>31</td>\n",
              "      <td>Misto</td>\n",
              "      <td>307</td>\n",
              "      <td>Engenharia</td>\n",
              "      <td>29</td>\n",
              "      <td>Superior incompleto</td>\n",
              "      <td>Medicina</td>\n",
              "      <td>355</td>\n",
              "      <td>3</td>\n",
              "      <td>M</td>\n",
              "      <td>71</td>\n",
              "      <td>2</td>\n",
              "      <td>1</td>\n",
              "      <td>Tecnico</td>\n",
              "      <td>2</td>\n",
              "      <td>Solteiro</td>\n",
              "      <td>3479</td>\n",
              "      <td>11652</td>\n",
              "      <td>0</td>\n",
              "      <td>Não</td>\n",
              "      <td>11</td>\n",
              "      <td>3</td>\n",
              "      <td>2</td>\n",
              "      <td>0</td>\n",
              "      <td>6</td>\n",
              "      <td>2</td>\n",
              "      <td>4</td>\n",
              "      <td>5</td>\n",
              "      <td>4</td>\n",
              "      <td>1</td>\n",
              "      <td>4</td>\n",
              "      <td>0</td>\n",
              "    </tr>\n",
              "    <tr>\n",
              "      <th>97</th>\n",
              "      <td>28</td>\n",
              "      <td>Escritório</td>\n",
              "      <td>529</td>\n",
              "      <td>Engenharia</td>\n",
              "      <td>2</td>\n",
              "      <td>Superior incompleto - cursando</td>\n",
              "      <td>Ciências das natureza</td>\n",
              "      <td>364</td>\n",
              "      <td>1</td>\n",
              "      <td>M</td>\n",
              "      <td>79</td>\n",
              "      <td>3</td>\n",
              "      <td>1</td>\n",
              "      <td>Tecnico</td>\n",
              "      <td>3</td>\n",
              "      <td>Solteiro</td>\n",
              "      <td>3485</td>\n",
              "      <td>14935</td>\n",
              "      <td>2</td>\n",
              "      <td>Não</td>\n",
              "      <td>11</td>\n",
              "      <td>3</td>\n",
              "      <td>3</td>\n",
              "      <td>0</td>\n",
              "      <td>5</td>\n",
              "      <td>5</td>\n",
              "      <td>1</td>\n",
              "      <td>0</td>\n",
              "      <td>0</td>\n",
              "      <td>0</td>\n",
              "      <td>0</td>\n",
              "      <td>0</td>\n",
              "    </tr>\n",
              "    <tr>\n",
              "      <th>98</th>\n",
              "      <td>47</td>\n",
              "      <td>Cliente</td>\n",
              "      <td>666</td>\n",
              "      <td>Engenharia</td>\n",
              "      <td>29</td>\n",
              "      <td>Superior incompleto - cursando</td>\n",
              "      <td>Ciências das natureza</td>\n",
              "      <td>376</td>\n",
              "      <td>1</td>\n",
              "      <td>M</td>\n",
              "      <td>88</td>\n",
              "      <td>3</td>\n",
              "      <td>3</td>\n",
              "      <td>Gerente</td>\n",
              "      <td>2</td>\n",
              "      <td>Casado</td>\n",
              "      <td>11849</td>\n",
              "      <td>10268</td>\n",
              "      <td>1</td>\n",
              "      <td>Sim</td>\n",
              "      <td>12</td>\n",
              "      <td>3</td>\n",
              "      <td>4</td>\n",
              "      <td>1</td>\n",
              "      <td>10</td>\n",
              "      <td>2</td>\n",
              "      <td>2</td>\n",
              "      <td>10</td>\n",
              "      <td>7</td>\n",
              "      <td>9</td>\n",
              "      <td>9</td>\n",
              "      <td>1</td>\n",
              "    </tr>\n",
              "    <tr>\n",
              "      <th>99</th>\n",
              "      <td>44</td>\n",
              "      <td>Misto</td>\n",
              "      <td>920</td>\n",
              "      <td>Engenharia</td>\n",
              "      <td>24</td>\n",
              "      <td>Superior completo</td>\n",
              "      <td>Ciências das natureza</td>\n",
              "      <td>392</td>\n",
              "      <td>4</td>\n",
              "      <td>M</td>\n",
              "      <td>43</td>\n",
              "      <td>3</td>\n",
              "      <td>1</td>\n",
              "      <td>Tecnico</td>\n",
              "      <td>3</td>\n",
              "      <td>Divorciado</td>\n",
              "      <td>3161</td>\n",
              "      <td>19920</td>\n",
              "      <td>3</td>\n",
              "      <td>Sim</td>\n",
              "      <td>22</td>\n",
              "      <td>4</td>\n",
              "      <td>4</td>\n",
              "      <td>1</td>\n",
              "      <td>19</td>\n",
              "      <td>0</td>\n",
              "      <td>1</td>\n",
              "      <td>1</td>\n",
              "      <td>0</td>\n",
              "      <td>0</td>\n",
              "      <td>0</td>\n",
              "      <td>1</td>\n",
              "    </tr>\n",
              "  </tbody>\n",
              "</table>\n",
              "<p>100 rows × 32 columns</p>\n",
              "</div>"
            ],
            "text/plain": [
              "    Idade Local de trabalho  ...  Anos com a mesma gerência  0\n",
              "0      40             Misto  ...                         10  0\n",
              "1      25             Misto  ...                          2  0\n",
              "2      30             Misto  ...                          7  0\n",
              "3      25             Misto  ...                          2  1\n",
              "4      47        Escritório  ...                         11  0\n",
              "..    ...               ...  ...                        ... ..\n",
              "95     37           Cliente  ...                          0  0\n",
              "96     31             Misto  ...                          4  0\n",
              "97     28        Escritório  ...                          0  0\n",
              "98     47           Cliente  ...                          9  1\n",
              "99     44             Misto  ...                          0  1\n",
              "\n",
              "[100 rows x 32 columns]"
            ]
          },
          "metadata": {
            "tags": []
          },
          "execution_count": 280
        }
      ]
    },
    {
      "cell_type": "code",
      "metadata": {
        "id": "232oMIv3nzJ9",
        "colab": {
          "base_uri": "https://localhost:8080/",
          "height": 68
        },
        "outputId": "78ee2374-5556-4a6c-eca8-55557b026e7b"
      },
      "source": [
        "df.loc[(df[\"Contratar\"] == \"Sim\")][\"Necessita de hora extra\"].value_counts()"
      ],
      "execution_count": null,
      "outputs": [
        {
          "output_type": "execute_result",
          "data": {
            "text/plain": [
              "Sim    101\n",
              "Não     91\n",
              "Name: Necessita de hora extra, dtype: int64"
            ]
          },
          "metadata": {
            "tags": []
          },
          "execution_count": 293
        }
      ]
    },
    {
      "cell_type": "code",
      "metadata": {
        "id": "3LWySEKpqny9",
        "colab": {
          "base_uri": "https://localhost:8080/",
          "height": 68
        },
        "outputId": "b9d3149a-8da2-4c83-9105-17a077175c9d"
      },
      "source": [
        "df[\"Necessita de hora extra\"].value_counts()"
      ],
      "execution_count": null,
      "outputs": [
        {
          "output_type": "execute_result",
          "data": {
            "text/plain": [
              "Não    992\n",
              "Sim    378\n",
              "Name: Necessita de hora extra, dtype: int64"
            ]
          },
          "metadata": {
            "tags": []
          },
          "execution_count": 294
        }
      ]
    },
    {
      "cell_type": "code",
      "metadata": {
        "id": "l55usc9Rr8cs"
      },
      "source": [
        "Submission2 = pd.DataFrame(DTC_fs_pred, columns=[\"$R-Contratar\"])\n",
        "\n",
        "Submission2.loc[Submission2[\"$R-Contratar\"] == 1, \"$R-Contratar\"] = \"Sim\"\n",
        "Submission2.loc[Submission2[\"$R-Contratar\"] == 0, \"$R-Contratar\"] = \"Não\""
      ],
      "execution_count": null,
      "outputs": []
    },
    {
      "cell_type": "code",
      "metadata": {
        "id": "aY1JKHUcum51"
      },
      "source": [
        "Submission2.to_csv(\"results\", index=False) # **"
      ],
      "execution_count": null,
      "outputs": []
    },
    {
      "cell_type": "code",
      "metadata": {
        "id": "If4pjwui3IXN",
        "colab": {
          "base_uri": "https://localhost:8080/",
          "height": 34
        },
        "outputId": "7f86ac9b-3a07-46af-f3ab-7a4cfde1806f"
      },
      "source": [
        "count = 0\n",
        "for n in range(0, 100):\n",
        "  if Submission3[\"$R-Contratar\"][n] != Submission2[\"$R-Contratar\"][n]:\n",
        "    count += 1\n",
        "count"
      ],
      "execution_count": null,
      "outputs": [
        {
          "output_type": "execute_result",
          "data": {
            "text/plain": [
              "22"
            ]
          },
          "metadata": {
            "tags": []
          },
          "execution_count": 329
        }
      ]
    },
    {
      "cell_type": "code",
      "metadata": {
        "id": "o2OhgmCZBTZW",
        "colab": {
          "base_uri": "https://localhost:8080/",
          "height": 102
        },
        "outputId": "5d8b382f-f49f-414c-de8b-2bbf1b2803bb"
      },
      "source": [
        "GBC_p"
      ],
      "execution_count": null,
      "outputs": [
        {
          "output_type": "execute_result",
          "data": {
            "text/plain": [
              "array([0, 0, 0, 0, 0, 0, 0, 0, 0, 0, 0, 0, 1, 0, 0, 0, 0, 0, 0, 0, 0, 0,\n",
              "       0, 0, 0, 1, 1, 0, 0, 0, 0, 1, 0, 0, 0, 0, 0, 0, 0, 0, 0, 0, 0, 0,\n",
              "       0, 0, 0, 0, 0, 0, 0, 0, 0, 0, 0, 0, 0, 0, 0, 0, 0, 0, 0, 0, 0, 0,\n",
              "       0, 0, 0, 0, 0, 0, 0, 0, 0, 0, 0, 1, 0, 0, 0, 0, 0, 0, 0, 0, 0, 0,\n",
              "       0, 0, 0, 0, 0, 0, 0, 0, 0, 0, 0, 0])"
            ]
          },
          "metadata": {
            "tags": []
          },
          "execution_count": 449
        }
      ]
    },
    {
      "cell_type": "code",
      "metadata": {
        "id": "YSgB5R3pA3m2",
        "colab": {
          "base_uri": "https://localhost:8080/",
          "height": 102
        },
        "outputId": "021daa0b-5213-4fb4-d8d1-e37a4103f265"
      },
      "source": [
        "pipe_smote_pred = pipe_smote.predict(toScore2)\n",
        "pipe_smote_pred"
      ],
      "execution_count": null,
      "outputs": [
        {
          "output_type": "execute_result",
          "data": {
            "text/plain": [
              "array([0, 1, 0, 0, 0, 0, 0, 0, 0, 0, 0, 0, 0, 0, 0, 0, 1, 0, 0, 0, 0, 0,\n",
              "       0, 1, 0, 0, 1, 0, 0, 0, 0, 0, 0, 0, 0, 0, 1, 0, 0, 1, 0, 0, 0, 0,\n",
              "       0, 0, 1, 0, 0, 1, 0, 0, 0, 0, 0, 0, 0, 0, 0, 0, 0, 0, 0, 0, 0, 0,\n",
              "       0, 0, 0, 0, 0, 0, 0, 0, 0, 0, 0, 0, 0, 0, 0, 0, 0, 0, 0, 0, 0, 0,\n",
              "       0, 0, 0, 0, 0, 0, 0, 0, 0, 0, 0, 0])"
            ]
          },
          "metadata": {
            "tags": []
          },
          "execution_count": 23
        }
      ]
    },
    {
      "cell_type": "code",
      "metadata": {
        "id": "-gfBVptTB515"
      },
      "source": [
        "Submission4 = pd.DataFrame(pipe_smote_pred, columns=[\"$R-Contratar\"])\n",
        "\n",
        "Submission4.loc[Submission4[\"$R-Contratar\"] == 1, \"$R-Contratar\"] = \"Sim\"\n",
        "Submission4.loc[Submission4[\"$R-Contratar\"] == 0, \"$R-Contratar\"] = \"Não\"\n",
        "\n",
        "Submission4.to_csv(\"results\", index=False)"
      ],
      "execution_count": null,
      "outputs": []
    },
    {
      "cell_type": "code",
      "metadata": {
        "id": "40HHpA_QCNme"
      },
      "source": [
        ""
      ],
      "execution_count": null,
      "outputs": []
    }
  ]
}